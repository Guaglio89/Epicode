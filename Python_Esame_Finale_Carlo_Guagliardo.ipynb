{
 "cells": [
  {
   "cell_type": "code",
   "execution_count": 3,
   "id": "614bc10b-59c6-4dd1-aa82-31735d08f0df",
   "metadata": {},
   "outputs": [],
   "source": [
    "import pandas as pd"
   ]
  },
  {
   "cell_type": "code",
   "execution_count": 4,
   "id": "a73ea1f5-0af9-40c7-85df-6df7806ae674",
   "metadata": {},
   "outputs": [],
   "source": [
    "df = pd.read_csv(\"C:\\\\Users\\\\User\\\\Desktop\\\\personale\\\\master\\\\python\\\\esame_finale\\\\owid-covid-data.csv\")"
   ]
  },
  {
   "cell_type": "code",
   "execution_count": 3,
   "id": "dc721464-6866-48ff-a922-5cd206865a94",
   "metadata": {},
   "outputs": [],
   "source": [
    "#Si richiede di verificare le dimensioni del dataset e i relativi metadati;"
   ]
  },
  {
   "cell_type": "code",
   "execution_count": 4,
   "id": "c2517418-3921-4b96-80a8-8c599d7a4272",
   "metadata": {},
   "outputs": [
    {
     "name": "stdout",
     "output_type": "stream",
     "text": [
      "<class 'pandas.core.frame.DataFrame'>\n",
      "RangeIndex: 402717 entries, 0 to 402716\n",
      "Data columns (total 67 columns):\n",
      " #   Column                                      Non-Null Count   Dtype  \n",
      "---  ------                                      --------------   -----  \n",
      " 0   iso_code                                    402717 non-null  object \n",
      " 1   continent                                   383454 non-null  object \n",
      " 2   location                                    402717 non-null  object \n",
      " 3   date                                        402717 non-null  object \n",
      " 4   total_cases                                 363712 non-null  float64\n",
      " 5   new_cases                                   391526 non-null  float64\n",
      " 6   new_cases_smoothed                          390296 non-null  float64\n",
      " 7   total_deaths                                341117 non-null  float64\n",
      " 8   new_deaths                                  391897 non-null  float64\n",
      " 9   new_deaths_smoothed                         390667 non-null  float64\n",
      " 10  total_cases_per_million                     363712 non-null  float64\n",
      " 11  new_cases_per_million                       391526 non-null  float64\n",
      " 12  new_cases_smoothed_per_million              390296 non-null  float64\n",
      " 13  total_deaths_per_million                    341117 non-null  float64\n",
      " 14  new_deaths_per_million                      391897 non-null  float64\n",
      " 15  new_deaths_smoothed_per_million             390667 non-null  float64\n",
      " 16  reproduction_rate                           184817 non-null  float64\n",
      " 17  icu_patients                                38892 non-null   float64\n",
      " 18  icu_patients_per_million                    38892 non-null   float64\n",
      " 19  hosp_patients                               40432 non-null   float64\n",
      " 20  hosp_patients_per_million                   40432 non-null   float64\n",
      " 21  weekly_icu_admissions                       10838 non-null   float64\n",
      " 22  weekly_icu_admissions_per_million           10838 non-null   float64\n",
      " 23  weekly_hosp_admissions                      24347 non-null   float64\n",
      " 24  weekly_hosp_admissions_per_million          24347 non-null   float64\n",
      " 25  total_tests                                 79387 non-null   float64\n",
      " 26  new_tests                                   75403 non-null   float64\n",
      " 27  total_tests_per_thousand                    79387 non-null   float64\n",
      " 28  new_tests_per_thousand                      75403 non-null   float64\n",
      " 29  new_tests_smoothed                          103965 non-null  float64\n",
      " 30  new_tests_smoothed_per_thousand             103965 non-null  float64\n",
      " 31  positive_rate                               95927 non-null   float64\n",
      " 32  tests_per_case                              94348 non-null   float64\n",
      " 33  tests_units                                 106788 non-null  object \n",
      " 34  total_vaccinations                          84404 non-null   float64\n",
      " 35  people_vaccinated                           80176 non-null   float64\n",
      " 36  people_fully_vaccinated                     77095 non-null   float64\n",
      " 37  total_boosters                              52612 non-null   float64\n",
      " 38  new_vaccinations                            70041 non-null   float64\n",
      " 39  new_vaccinations_smoothed                   193691 non-null  float64\n",
      " 40  total_vaccinations_per_hundred              84404 non-null   float64\n",
      " 41  people_vaccinated_per_hundred               80176 non-null   float64\n",
      " 42  people_fully_vaccinated_per_hundred         77095 non-null   float64\n",
      " 43  total_boosters_per_hundred                  52612 non-null   float64\n",
      " 44  new_vaccinations_smoothed_per_million       193691 non-null  float64\n",
      " 45  new_people_vaccinated_smoothed              191008 non-null  float64\n",
      " 46  new_people_vaccinated_smoothed_per_hundred  191008 non-null  float64\n",
      " 47  stringency_index                            197292 non-null  float64\n",
      " 48  population_density                          342656 non-null  float64\n",
      " 49  median_age                                  318453 non-null  float64\n",
      " 50  aged_65_older                               307522 non-null  float64\n",
      " 51  aged_70_older                               315259 non-null  float64\n",
      " 52  gdp_per_capita                              312313 non-null  float64\n",
      " 53  extreme_poverty                             201340 non-null  float64\n",
      " 54  cardiovasc_death_rate                       312901 non-null  float64\n",
      " 55  diabetes_prevalence                         329085 non-null  float64\n",
      " 56  female_smokers                              234897 non-null  float64\n",
      " 57  male_smokers                                231703 non-null  float64\n",
      " 58  handwashing_facilities                      153356 non-null  float64\n",
      " 59  hospital_beds_per_thousand                  276419 non-null  float64\n",
      " 60  life_expectancy                             371154 non-null  float64\n",
      " 61  human_development_index                     303533 non-null  float64\n",
      " 62  population                                  402717 non-null  float64\n",
      " 63  excess_mortality_cumulative_absolute        13278 non-null   float64\n",
      " 64  excess_mortality_cumulative                 13278 non-null   float64\n",
      " 65  excess_mortality                            13278 non-null   float64\n",
      " 66  excess_mortality_cumulative_per_million     13278 non-null   float64\n",
      "dtypes: float64(62), object(5)\n",
      "memory usage: 205.9+ MB\n"
     ]
    }
   ],
   "source": [
    "df.info()"
   ]
  },
  {
   "cell_type": "code",
   "execution_count": 5,
   "id": "92365a86-b32f-43b7-a886-1972526defe2",
   "metadata": {},
   "outputs": [
    {
     "data": {
      "text/plain": [
       "(402717, 67)"
      ]
     },
     "execution_count": 5,
     "metadata": {},
     "output_type": "execute_result"
    }
   ],
   "source": [
    "df.shape"
   ]
  },
  {
   "cell_type": "code",
   "execution_count": 6,
   "id": "3d7c1f4d-0791-483c-89f7-23b884cec071",
   "metadata": {},
   "outputs": [
    {
     "data": {
      "text/html": [
       "<div>\n",
       "<style scoped>\n",
       "    .dataframe tbody tr th:only-of-type {\n",
       "        vertical-align: middle;\n",
       "    }\n",
       "\n",
       "    .dataframe tbody tr th {\n",
       "        vertical-align: top;\n",
       "    }\n",
       "\n",
       "    .dataframe thead th {\n",
       "        text-align: right;\n",
       "    }\n",
       "</style>\n",
       "<table border=\"1\" class=\"dataframe\">\n",
       "  <thead>\n",
       "    <tr style=\"text-align: right;\">\n",
       "      <th></th>\n",
       "      <th>iso_code</th>\n",
       "      <th>continent</th>\n",
       "      <th>location</th>\n",
       "      <th>date</th>\n",
       "      <th>total_cases</th>\n",
       "      <th>new_cases</th>\n",
       "      <th>new_cases_smoothed</th>\n",
       "      <th>total_deaths</th>\n",
       "      <th>new_deaths</th>\n",
       "      <th>new_deaths_smoothed</th>\n",
       "      <th>...</th>\n",
       "      <th>male_smokers</th>\n",
       "      <th>handwashing_facilities</th>\n",
       "      <th>hospital_beds_per_thousand</th>\n",
       "      <th>life_expectancy</th>\n",
       "      <th>human_development_index</th>\n",
       "      <th>population</th>\n",
       "      <th>excess_mortality_cumulative_absolute</th>\n",
       "      <th>excess_mortality_cumulative</th>\n",
       "      <th>excess_mortality</th>\n",
       "      <th>excess_mortality_cumulative_per_million</th>\n",
       "    </tr>\n",
       "  </thead>\n",
       "  <tbody>\n",
       "    <tr>\n",
       "      <th>0</th>\n",
       "      <td>AFG</td>\n",
       "      <td>Asia</td>\n",
       "      <td>Afghanistan</td>\n",
       "      <td>2020-01-05</td>\n",
       "      <td>NaN</td>\n",
       "      <td>0.0</td>\n",
       "      <td>NaN</td>\n",
       "      <td>NaN</td>\n",
       "      <td>0.0</td>\n",
       "      <td>NaN</td>\n",
       "      <td>...</td>\n",
       "      <td>NaN</td>\n",
       "      <td>37.746</td>\n",
       "      <td>0.5</td>\n",
       "      <td>64.83</td>\n",
       "      <td>0.511</td>\n",
       "      <td>41128772.0</td>\n",
       "      <td>NaN</td>\n",
       "      <td>NaN</td>\n",
       "      <td>NaN</td>\n",
       "      <td>NaN</td>\n",
       "    </tr>\n",
       "    <tr>\n",
       "      <th>1</th>\n",
       "      <td>AFG</td>\n",
       "      <td>Asia</td>\n",
       "      <td>Afghanistan</td>\n",
       "      <td>2020-01-06</td>\n",
       "      <td>NaN</td>\n",
       "      <td>0.0</td>\n",
       "      <td>NaN</td>\n",
       "      <td>NaN</td>\n",
       "      <td>0.0</td>\n",
       "      <td>NaN</td>\n",
       "      <td>...</td>\n",
       "      <td>NaN</td>\n",
       "      <td>37.746</td>\n",
       "      <td>0.5</td>\n",
       "      <td>64.83</td>\n",
       "      <td>0.511</td>\n",
       "      <td>41128772.0</td>\n",
       "      <td>NaN</td>\n",
       "      <td>NaN</td>\n",
       "      <td>NaN</td>\n",
       "      <td>NaN</td>\n",
       "    </tr>\n",
       "    <tr>\n",
       "      <th>2</th>\n",
       "      <td>AFG</td>\n",
       "      <td>Asia</td>\n",
       "      <td>Afghanistan</td>\n",
       "      <td>2020-01-07</td>\n",
       "      <td>NaN</td>\n",
       "      <td>0.0</td>\n",
       "      <td>NaN</td>\n",
       "      <td>NaN</td>\n",
       "      <td>0.0</td>\n",
       "      <td>NaN</td>\n",
       "      <td>...</td>\n",
       "      <td>NaN</td>\n",
       "      <td>37.746</td>\n",
       "      <td>0.5</td>\n",
       "      <td>64.83</td>\n",
       "      <td>0.511</td>\n",
       "      <td>41128772.0</td>\n",
       "      <td>NaN</td>\n",
       "      <td>NaN</td>\n",
       "      <td>NaN</td>\n",
       "      <td>NaN</td>\n",
       "    </tr>\n",
       "    <tr>\n",
       "      <th>3</th>\n",
       "      <td>AFG</td>\n",
       "      <td>Asia</td>\n",
       "      <td>Afghanistan</td>\n",
       "      <td>2020-01-08</td>\n",
       "      <td>NaN</td>\n",
       "      <td>0.0</td>\n",
       "      <td>NaN</td>\n",
       "      <td>NaN</td>\n",
       "      <td>0.0</td>\n",
       "      <td>NaN</td>\n",
       "      <td>...</td>\n",
       "      <td>NaN</td>\n",
       "      <td>37.746</td>\n",
       "      <td>0.5</td>\n",
       "      <td>64.83</td>\n",
       "      <td>0.511</td>\n",
       "      <td>41128772.0</td>\n",
       "      <td>NaN</td>\n",
       "      <td>NaN</td>\n",
       "      <td>NaN</td>\n",
       "      <td>NaN</td>\n",
       "    </tr>\n",
       "    <tr>\n",
       "      <th>4</th>\n",
       "      <td>AFG</td>\n",
       "      <td>Asia</td>\n",
       "      <td>Afghanistan</td>\n",
       "      <td>2020-01-09</td>\n",
       "      <td>NaN</td>\n",
       "      <td>0.0</td>\n",
       "      <td>NaN</td>\n",
       "      <td>NaN</td>\n",
       "      <td>0.0</td>\n",
       "      <td>NaN</td>\n",
       "      <td>...</td>\n",
       "      <td>NaN</td>\n",
       "      <td>37.746</td>\n",
       "      <td>0.5</td>\n",
       "      <td>64.83</td>\n",
       "      <td>0.511</td>\n",
       "      <td>41128772.0</td>\n",
       "      <td>NaN</td>\n",
       "      <td>NaN</td>\n",
       "      <td>NaN</td>\n",
       "      <td>NaN</td>\n",
       "    </tr>\n",
       "  </tbody>\n",
       "</table>\n",
       "<p>5 rows × 67 columns</p>\n",
       "</div>"
      ],
      "text/plain": [
       "  iso_code continent     location        date  total_cases  new_cases  \\\n",
       "0      AFG      Asia  Afghanistan  2020-01-05          NaN        0.0   \n",
       "1      AFG      Asia  Afghanistan  2020-01-06          NaN        0.0   \n",
       "2      AFG      Asia  Afghanistan  2020-01-07          NaN        0.0   \n",
       "3      AFG      Asia  Afghanistan  2020-01-08          NaN        0.0   \n",
       "4      AFG      Asia  Afghanistan  2020-01-09          NaN        0.0   \n",
       "\n",
       "   new_cases_smoothed  total_deaths  new_deaths  new_deaths_smoothed  ...  \\\n",
       "0                 NaN           NaN         0.0                  NaN  ...   \n",
       "1                 NaN           NaN         0.0                  NaN  ...   \n",
       "2                 NaN           NaN         0.0                  NaN  ...   \n",
       "3                 NaN           NaN         0.0                  NaN  ...   \n",
       "4                 NaN           NaN         0.0                  NaN  ...   \n",
       "\n",
       "   male_smokers  handwashing_facilities  hospital_beds_per_thousand  \\\n",
       "0           NaN                  37.746                         0.5   \n",
       "1           NaN                  37.746                         0.5   \n",
       "2           NaN                  37.746                         0.5   \n",
       "3           NaN                  37.746                         0.5   \n",
       "4           NaN                  37.746                         0.5   \n",
       "\n",
       "   life_expectancy  human_development_index  population  \\\n",
       "0            64.83                    0.511  41128772.0   \n",
       "1            64.83                    0.511  41128772.0   \n",
       "2            64.83                    0.511  41128772.0   \n",
       "3            64.83                    0.511  41128772.0   \n",
       "4            64.83                    0.511  41128772.0   \n",
       "\n",
       "   excess_mortality_cumulative_absolute  excess_mortality_cumulative  \\\n",
       "0                                   NaN                          NaN   \n",
       "1                                   NaN                          NaN   \n",
       "2                                   NaN                          NaN   \n",
       "3                                   NaN                          NaN   \n",
       "4                                   NaN                          NaN   \n",
       "\n",
       "   excess_mortality  excess_mortality_cumulative_per_million  \n",
       "0               NaN                                      NaN  \n",
       "1               NaN                                      NaN  \n",
       "2               NaN                                      NaN  \n",
       "3               NaN                                      NaN  \n",
       "4               NaN                                      NaN  \n",
       "\n",
       "[5 rows x 67 columns]"
      ]
     },
     "execution_count": 6,
     "metadata": {},
     "output_type": "execute_result"
    }
   ],
   "source": [
    "df.head()"
   ]
  },
  {
   "cell_type": "code",
   "execution_count": 8,
   "id": "130191a1-c650-4ee2-9ec0-0a62c50030d2",
   "metadata": {},
   "outputs": [],
   "source": [
    "casi_tot_per_continente=df.groupby('continent')['new_cases'].sum()"
   ]
  },
  {
   "cell_type": "code",
   "execution_count": 9,
   "id": "646a2390-73e0-4114-9e67-31b89a8d7295",
   "metadata": {},
   "outputs": [
    {
     "data": {
      "text/plain": [
       "continent\n",
       "Africa            13144001.0\n",
       "Asia             301493807.0\n",
       "Europe           252591016.0\n",
       "North America    124570370.0\n",
       "Oceania           14951880.0\n",
       "South America     68838753.0\n",
       "Name: new_cases, dtype: float64"
      ]
     },
     "execution_count": 9,
     "metadata": {},
     "output_type": "execute_result"
    }
   ],
   "source": [
    "casi_tot_per_continente"
   ]
  },
  {
   "cell_type": "code",
   "execution_count": 10,
   "id": "d65ca551-5f7c-464d-abae-7d008df10ebd",
   "metadata": {},
   "outputs": [
    {
     "data": {
      "text/plain": [
       "'Sempre riguardo i casi totali, si chiede di scrivere del codice che, date due variabili contenenti i nomi di continenti, \\nne confronti i seguenti relativi descrittori statistici: valore massimo, media, e percentuale rispetto al numero dei casi totali nel mondo \\n(calcolati anche sulle locazioni senza indicazione di continente);'"
      ]
     },
     "execution_count": 10,
     "metadata": {},
     "output_type": "execute_result"
    }
   ],
   "source": [
    "'''Sempre riguardo i casi totali, si chiede di scrivere del codice che, date due variabili contenenti i nomi di continenti, \n",
    "ne confronti i seguenti relativi descrittori statistici: valore massimo, media, e percentuale rispetto al numero dei casi totali nel mondo \n",
    "(calcolati anche sulle locazioni senza indicazione di continente);'''"
   ]
  },
  {
   "cell_type": "code",
   "execution_count": 11,
   "id": "6949cefc-b018-4e97-a475-8fef71f66e12",
   "metadata": {},
   "outputs": [
    {
     "data": {
      "text/html": [
       "<div>\n",
       "<style scoped>\n",
       "    .dataframe tbody tr th:only-of-type {\n",
       "        vertical-align: middle;\n",
       "    }\n",
       "\n",
       "    .dataframe tbody tr th {\n",
       "        vertical-align: top;\n",
       "    }\n",
       "\n",
       "    .dataframe thead th {\n",
       "        text-align: right;\n",
       "    }\n",
       "</style>\n",
       "<table border=\"1\" class=\"dataframe\">\n",
       "  <thead>\n",
       "    <tr style=\"text-align: right;\">\n",
       "      <th></th>\n",
       "      <th>max</th>\n",
       "      <th>mean</th>\n",
       "      <th>sum</th>\n",
       "    </tr>\n",
       "    <tr>\n",
       "      <th>continent</th>\n",
       "      <th></th>\n",
       "      <th></th>\n",
       "      <th></th>\n",
       "    </tr>\n",
       "  </thead>\n",
       "  <tbody>\n",
       "    <tr>\n",
       "      <th>Africa</th>\n",
       "      <td>162987.0</td>\n",
       "      <td>144.404660</td>\n",
       "      <td>13144001.0</td>\n",
       "    </tr>\n",
       "    <tr>\n",
       "      <th>Asia</th>\n",
       "      <td>40475477.0</td>\n",
       "      <td>4016.918128</td>\n",
       "      <td>301493807.0</td>\n",
       "    </tr>\n",
       "    <tr>\n",
       "      <th>Europe</th>\n",
       "      <td>2417043.0</td>\n",
       "      <td>3138.010485</td>\n",
       "      <td>252591016.0</td>\n",
       "    </tr>\n",
       "    <tr>\n",
       "      <th>North America</th>\n",
       "      <td>5650933.0</td>\n",
       "      <td>1913.288229</td>\n",
       "      <td>124570370.0</td>\n",
       "    </tr>\n",
       "    <tr>\n",
       "      <th>Oceania</th>\n",
       "      <td>588813.0</td>\n",
       "      <td>390.133855</td>\n",
       "      <td>14951880.0</td>\n",
       "    </tr>\n",
       "    <tr>\n",
       "      <th>South America</th>\n",
       "      <td>1283024.0</td>\n",
       "      <td>3079.069330</td>\n",
       "      <td>68838753.0</td>\n",
       "    </tr>\n",
       "  </tbody>\n",
       "</table>\n",
       "</div>"
      ],
      "text/plain": [
       "                      max         mean          sum\n",
       "continent                                          \n",
       "Africa           162987.0   144.404660   13144001.0\n",
       "Asia           40475477.0  4016.918128  301493807.0\n",
       "Europe          2417043.0  3138.010485  252591016.0\n",
       "North America   5650933.0  1913.288229  124570370.0\n",
       "Oceania          588813.0   390.133855   14951880.0\n",
       "South America   1283024.0  3079.069330   68838753.0"
      ]
     },
     "execution_count": 11,
     "metadata": {},
     "output_type": "execute_result"
    }
   ],
   "source": [
    "statistiche_continenti_su_tot=df.groupby('continent')['new_cases'].agg(['max','mean','sum'])\n",
    "statistiche_continenti_su_tot"
   ]
  },
  {
   "cell_type": "code",
   "execution_count": 13,
   "id": "1db17948-4b49-4f0f-bd4f-3065780531c1",
   "metadata": {},
   "outputs": [
    {
     "data": {
      "text/plain": [
       "3286783071.0"
      ]
     },
     "execution_count": 13,
     "metadata": {},
     "output_type": "execute_result"
    }
   ],
   "source": [
    "casi_tot_mondo=df['new_cases'].sum()\n",
    "casi_tot_mondo"
   ]
  },
  {
   "cell_type": "code",
   "execution_count": 15,
   "id": "b058a8d2-68d2-40ae-ad5d-46ac0c53d07f",
   "metadata": {},
   "outputs": [],
   "source": [
    "casi_tot_africa=13144001.0"
   ]
  },
  {
   "cell_type": "code",
   "execution_count": 16,
   "id": "6e10918e-1c2e-4b03-9684-17fbbeb1fa3c",
   "metadata": {},
   "outputs": [],
   "source": [
    "casi_tot_asia=301493807.0"
   ]
  },
  {
   "cell_type": "code",
   "execution_count": 17,
   "id": "1b85b3a2-4a31-4771-88fb-c0a0a3946c03",
   "metadata": {},
   "outputs": [],
   "source": [
    "casi_tot_europa=252591016.0"
   ]
  },
  {
   "cell_type": "code",
   "execution_count": 18,
   "id": "9ba41131-6497-4cad-9921-6a7112432ab0",
   "metadata": {},
   "outputs": [],
   "source": [
    "casi_tot_nord_america=124570370.0"
   ]
  },
  {
   "cell_type": "code",
   "execution_count": 19,
   "id": "0f0f34ad-3fd6-492b-b853-64d1c4bc7724",
   "metadata": {},
   "outputs": [],
   "source": [
    "casi_tot_oceania=390.133855"
   ]
  },
  {
   "cell_type": "code",
   "execution_count": 20,
   "id": "38459a65-552b-422f-a8f4-56ca19204b37",
   "metadata": {},
   "outputs": [],
   "source": [
    "casi_tot_sud_america=68838753.0"
   ]
  },
  {
   "cell_type": "code",
   "execution_count": 21,
   "id": "b761c009-9800-4b68-900c-9c4095cc75b9",
   "metadata": {},
   "outputs": [
    {
     "data": {
      "text/plain": [
       "0.3999047310414968"
      ]
     },
     "execution_count": 21,
     "metadata": {},
     "output_type": "execute_result"
    }
   ],
   "source": [
    "percentuale_africa_su_mondo=(casi_tot_africa/casi_tot_mondo)*100\n",
    "percentuale_africa_su_mondo"
   ]
  },
  {
   "cell_type": "code",
   "execution_count": 22,
   "id": "0c2e121a-00ba-481f-98ad-cd6141868d2f",
   "metadata": {},
   "outputs": [
    {
     "data": {
      "text/plain": [
       "9.172914685491271"
      ]
     },
     "execution_count": 22,
     "metadata": {},
     "output_type": "execute_result"
    }
   ],
   "source": [
    "percentuale_asia_su_mondo=(casi_tot_asia/casi_tot_mondo)*100\n",
    "percentuale_asia_su_mondo"
   ]
  },
  {
   "cell_type": "code",
   "execution_count": 23,
   "id": "b265a262-9661-4757-b1ef-a33dc8b9d7c7",
   "metadata": {},
   "outputs": [
    {
     "data": {
      "text/plain": [
       "7.685052847833656"
      ]
     },
     "execution_count": 23,
     "metadata": {},
     "output_type": "execute_result"
    }
   ],
   "source": [
    "percentuale_europa_su_mondo=(casi_tot_europa/casi_tot_mondo)*100\n",
    "percentuale_europa_su_mondo"
   ]
  },
  {
   "cell_type": "code",
   "execution_count": 24,
   "id": "7f72b2d4-1cad-4622-8a64-8d74717f252f",
   "metadata": {},
   "outputs": [
    {
     "data": {
      "text/plain": [
       "3.790039297059529"
      ]
     },
     "execution_count": 24,
     "metadata": {},
     "output_type": "execute_result"
    }
   ],
   "source": [
    "percentuale_nord_america_su_mondo=(casi_tot_nord_america/casi_tot_mondo)*100\n",
    "percentuale_nord_america_su_mondo"
   ]
  },
  {
   "cell_type": "code",
   "execution_count": 28,
   "id": "7d48e289-ec74-42b0-af25-7efb6755ad7b",
   "metadata": {},
   "outputs": [
    {
     "data": {
      "text/plain": [
       "1.1869778034401954e-05"
      ]
     },
     "execution_count": 28,
     "metadata": {},
     "output_type": "execute_result"
    }
   ],
   "source": [
    "percentuale_oceania_su_mondo=(casi_tot_oceania/casi_tot_mondo)*100\n",
    "percentuale_oceania_su_mondo"
   ]
  },
  {
   "cell_type": "code",
   "execution_count": 29,
   "id": "7edb02d4-bf49-40a5-8513-f1b682f95eea",
   "metadata": {},
   "outputs": [
    {
     "data": {
      "text/plain": [
       "2.094411207340675"
      ]
     },
     "execution_count": 29,
     "metadata": {},
     "output_type": "execute_result"
    }
   ],
   "source": [
    "percentuale_sud_america_su_mondo=(casi_tot_sud_america/casi_tot_mondo)*100\n",
    "percentuale_sud_america_su_mondo"
   ]
  },
  {
   "cell_type": "code",
   "execution_count": null,
   "id": "4ae3f324-09f3-4eed-bd69-8d1fc39897b5",
   "metadata": {},
   "outputs": [],
   "source": [
    "#il totale  delle percentuali dei continenti è ben al di sotto al 100% intorno alla ventina, probabilmente  per i vari valori nulli su continent che sono la maggior parte"
   ]
  },
  {
   "cell_type": "code",
   "execution_count": 32,
   "id": "7c7d6332-96e6-4836-b9d6-f1dd4908b601",
   "metadata": {},
   "outputs": [],
   "source": [
    "statistiche = {\n",
    "    'continent': ['Africa', 'Asia', 'Europe', 'North America', 'Oceania', 'South America'],\n",
    "    'casi_max': [162987.0, 40475477.0, 2417043.0, 5650933.0, 588813.0, 1283024.0],\n",
    "    'casi_medi': [144.404660, 4016.918128, 3138.010485, 1913.288229, 390.133855, 3079.069330],\n",
    "    'cas_tot': [13144001.0, 301493807.0, 252591016.0, 124570370.0, 14951880.0, 68838753.0],\n",
    "    'percentuali': [0.3999047310414968, 9.172914685491271, 7.685052847833656, 3.790039297059529, 1.1869778034401954e-05, 2.094411207340675]\n",
    "}\n",
    "\n",
    "\n",
    "\n",
    "                \n",
    "               \n"
   ]
  },
  {
   "cell_type": "code",
   "execution_count": 40,
   "id": "610f5938-2f60-4973-826c-e85a6e54a60d",
   "metadata": {},
   "outputs": [],
   "source": [
    "statistiche = pd.DataFrame(statistiche)"
   ]
  },
  {
   "cell_type": "code",
   "execution_count": 41,
   "id": "21a2cbea-d74d-487c-9935-e563db8f56ad",
   "metadata": {},
   "outputs": [
    {
     "data": {
      "text/html": [
       "<div>\n",
       "<style scoped>\n",
       "    .dataframe tbody tr th:only-of-type {\n",
       "        vertical-align: middle;\n",
       "    }\n",
       "\n",
       "    .dataframe tbody tr th {\n",
       "        vertical-align: top;\n",
       "    }\n",
       "\n",
       "    .dataframe thead th {\n",
       "        text-align: right;\n",
       "    }\n",
       "</style>\n",
       "<table border=\"1\" class=\"dataframe\">\n",
       "  <thead>\n",
       "    <tr style=\"text-align: right;\">\n",
       "      <th></th>\n",
       "      <th>continent</th>\n",
       "      <th>casi_max</th>\n",
       "      <th>casi_medi</th>\n",
       "      <th>cas_tot</th>\n",
       "      <th>percentuali</th>\n",
       "    </tr>\n",
       "  </thead>\n",
       "  <tbody>\n",
       "    <tr>\n",
       "      <th>0</th>\n",
       "      <td>Africa</td>\n",
       "      <td>162987.0</td>\n",
       "      <td>144.404660</td>\n",
       "      <td>13144001.0</td>\n",
       "      <td>0.399905</td>\n",
       "    </tr>\n",
       "    <tr>\n",
       "      <th>1</th>\n",
       "      <td>Asia</td>\n",
       "      <td>40475477.0</td>\n",
       "      <td>4016.918128</td>\n",
       "      <td>301493807.0</td>\n",
       "      <td>9.172915</td>\n",
       "    </tr>\n",
       "    <tr>\n",
       "      <th>2</th>\n",
       "      <td>Europe</td>\n",
       "      <td>2417043.0</td>\n",
       "      <td>3138.010485</td>\n",
       "      <td>252591016.0</td>\n",
       "      <td>7.685053</td>\n",
       "    </tr>\n",
       "    <tr>\n",
       "      <th>3</th>\n",
       "      <td>North America</td>\n",
       "      <td>5650933.0</td>\n",
       "      <td>1913.288229</td>\n",
       "      <td>124570370.0</td>\n",
       "      <td>3.790039</td>\n",
       "    </tr>\n",
       "    <tr>\n",
       "      <th>4</th>\n",
       "      <td>Oceania</td>\n",
       "      <td>588813.0</td>\n",
       "      <td>390.133855</td>\n",
       "      <td>14951880.0</td>\n",
       "      <td>0.000012</td>\n",
       "    </tr>\n",
       "  </tbody>\n",
       "</table>\n",
       "</div>"
      ],
      "text/plain": [
       "       continent    casi_max    casi_medi      cas_tot  percentuali\n",
       "0         Africa    162987.0   144.404660   13144001.0     0.399905\n",
       "1           Asia  40475477.0  4016.918128  301493807.0     9.172915\n",
       "2         Europe   2417043.0  3138.010485  252591016.0     7.685053\n",
       "3  North America   5650933.0  1913.288229  124570370.0     3.790039\n",
       "4        Oceania    588813.0   390.133855   14951880.0     0.000012"
      ]
     },
     "execution_count": 41,
     "metadata": {},
     "output_type": "execute_result"
    }
   ],
   "source": [
    "statistiche.head()"
   ]
  },
  {
   "cell_type": "code",
   "execution_count": 80,
   "id": "85f55fd0-2ea8-4628-bc57-d42045beaee5",
   "metadata": {},
   "outputs": [],
   "source": [
    "def confronta_continenti(a, b):\n",
    "    # Estrazione dei casi massimi per il continente a\n",
    "    casi_max_a = df[df['continent'] == a]['casi_max'].values[0]\n",
    "    print(f\"{a} - Casi Massimi: {casi_max_a}\")\n",
    "    casi_medi_a = df[df['continent'] == a]['casi_max'].values[0]\n",
    "    print(f\"{a} - Casi Medi: {casi_medi_a}\")\n",
    "    cas_tot_a = df[df['continent'] == a]['cas_tot'].values[0]\n",
    "    print(f\"{a} - Casi Tot: {cas_tot_a}\")\n",
    "    percentuali_a= df[df['continent'] == a]['percentuali'].values[0]\n",
    "    print(f\"{a} - Percentuali: {percentuali_a}\")\n",
    "    casi_max_b = df[df['continent'] == b]['casi_max'].values[0]\n",
    "    print(f\"{b} - Casi Massimi: {casi_max_b}\")\n",
    "    casi_medi_b = df[df['continent'] == b]['casi_max'].values[0]\n",
    "    print(f\"{b} - Casi Medi: {casi_medi_b}\")\n",
    "    cas_tot_b = df[df['continent'] == b]['cas_tot'].values[0]\n",
    "    print(f\"{b} - Casi Tot: {cas_tot_b}\")\n",
    "    percentuali_b= df[df['continent'] == b]['percentuali'].values[0]\n",
    "    print(f\"{b} - Percentuali: {percentuali_b}\")\n",
    "      "
   ]
  },
  {
   "cell_type": "code",
   "execution_count": 83,
   "id": "85bc0405-514f-4ea1-bc9f-0245afddee6c",
   "metadata": {},
   "outputs": [
    {
     "name": "stdout",
     "output_type": "stream",
     "text": [
      "Africa - Casi Massimi: 162987.0\n",
      "Africa - Casi Medi: 162987.0\n",
      "Africa - Casi Tot: 13144001.0\n",
      "Africa - Percentuali: 0.3999047310414968\n",
      "Oceania - Casi Massimi: 588813.0\n",
      "Oceania - Casi Medi: 588813.0\n",
      "Oceania - Casi Tot: 14951880.0\n",
      "Oceania - Percentuali: 1.1869778034401954e-05\n"
     ]
    }
   ],
   "source": [
    "confronta_continenti('Africa','Oceania')"
   ]
  },
  {
   "cell_type": "code",
   "execution_count": null,
   "id": "132b6b7a-b501-4bbe-8663-dabc7f757801",
   "metadata": {},
   "outputs": [],
   "source": [
    "'''Selezionare i dati relativi all'Italia nel 2022, e mostrare con un grafico adeguato l'evoluzione del casi totali rispetto alla data.\n",
    " Mostrare poi con un grafico adeguato il numero di nuovi casi rispetto alla data (filtrare i dati se necessario).\n",
    "   Mostrare infine un grafico che mostra l'andamento della somma cumulativa nuovi casi del 2022,\n",
    "     e commentare se ci sono similarità con l'andamento del numero dei casi totali;'''"
   ]
  },
  {
   "cell_type": "code",
   "execution_count": 6,
   "id": "2c8da6a5",
   "metadata": {},
   "outputs": [],
   "source": [
    "filtro_2022_italia=df.loc[(df['location']=='Italy') & (df ['date'].str.contains('2022'))]"
   ]
  },
  {
   "cell_type": "code",
   "execution_count": 7,
   "id": "8f68d05f",
   "metadata": {},
   "outputs": [],
   "source": [
    "import seaborn as sns"
   ]
  },
  {
   "cell_type": "code",
   "execution_count": 8,
   "id": "749e8263",
   "metadata": {},
   "outputs": [
    {
     "name": "stderr",
     "output_type": "stream",
     "text": [
      "c:\\Users\\User\\anaconda3\\Lib\\site-packages\\seaborn\\_oldcore.py:1119: FutureWarning: use_inf_as_na option is deprecated and will be removed in a future version. Convert inf values to NaN before operating instead.\n",
      "  with pd.option_context('mode.use_inf_as_na', True):\n",
      "c:\\Users\\User\\anaconda3\\Lib\\site-packages\\seaborn\\_oldcore.py:1119: FutureWarning: use_inf_as_na option is deprecated and will be removed in a future version. Convert inf values to NaN before operating instead.\n",
      "  with pd.option_context('mode.use_inf_as_na', True):\n"
     ]
    },
    {
     "data": {
      "text/plain": [
       "<Axes: xlabel='date', ylabel='total_cases'>"
      ]
     },
     "execution_count": 8,
     "metadata": {},
     "output_type": "execute_result"
    },
    {
     "data": {
      "image/png": "[encoded data removed]",
      "text/plain": [
       "<Figure size 640x480 with 1 Axes>"
      ]
     },
     "metadata": {},
     "output_type": "display_data"
    }
   ],
   "source": [
    "sns.lineplot(filtro_2022_italia, x='date', y='total_cases')"
   ]
  },
  {
   "cell_type": "code",
   "execution_count": 37,
   "id": "64defbdd",
   "metadata": {},
   "outputs": [
    {
     "name": "stderr",
     "output_type": "stream",
     "text": [
      "c:\\Users\\User\\anaconda3\\Lib\\site-packages\\seaborn\\_oldcore.py:1119: FutureWarning: use_inf_as_na option is deprecated and will be removed in a future version. Convert inf values to NaN before operating instead.\n",
      "  with pd.option_context('mode.use_inf_as_na', True):\n",
      "c:\\Users\\User\\anaconda3\\Lib\\site-packages\\seaborn\\_oldcore.py:1119: FutureWarning: use_inf_as_na option is deprecated and will be removed in a future version. Convert inf values to NaN before operating instead.\n",
      "  with pd.option_context('mode.use_inf_as_na', True):\n"
     ]
    },
    {
     "data": {
      "text/plain": [
       "<Axes: xlabel='date', ylabel='new_cases'>"
      ]
     },
     "execution_count": 37,
     "metadata": {},
     "output_type": "execute_result"
    },
    {
     "data": {
      "image/png": "[encoded data removed]",
      "text/plain": [
       "<Figure size 640x480 with 1 Axes>"
      ]
     },
     "metadata": {},
     "output_type": "display_data"
    }
   ],
   "source": [
    "sns.lineplot(filtro_2022_italia, x='date', y='new_cases')"
   ]
  },
  {
   "cell_type": "code",
   "execution_count": 58,
   "id": "c7fe6c79",
   "metadata": {},
   "outputs": [
    {
     "name": "stderr",
     "output_type": "stream",
     "text": [
      "C:\\Users\\User\\AppData\\Local\\Temp\\ipykernel_13216\\3559251109.py:1: SettingWithCopyWarning: \n",
      "A value is trying to be set on a copy of a slice from a DataFrame.\n",
      "Try using .loc[row_indexer,col_indexer] = value instead\n",
      "\n",
      "See the caveats in the documentation: https://pandas.pydata.org/pandas-docs/stable/user_guide/indexing.html#returning-a-view-versus-a-copy\n",
      "  filtro_2022_italia['new_cases_cumulata']=filtro_2022_italia['new_cases'].cumsum()\n"
     ]
    }
   ],
   "source": [
    "filtro_2022_italia['new_cases_cumulata']=filtro_2022_italia['new_cases'].cumsum()  #creazione colonna new_cases_cumulata"
   ]
  },
  {
   "cell_type": "code",
   "execution_count": 59,
   "id": "4ab348b7",
   "metadata": {},
   "outputs": [
    {
     "name": "stderr",
     "output_type": "stream",
     "text": [
      "c:\\Users\\User\\anaconda3\\Lib\\site-packages\\seaborn\\_oldcore.py:1119: FutureWarning: use_inf_as_na option is deprecated and will be removed in a future version. Convert inf values to NaN before operating instead.\n",
      "  with pd.option_context('mode.use_inf_as_na', True):\n",
      "c:\\Users\\User\\anaconda3\\Lib\\site-packages\\seaborn\\_oldcore.py:1119: FutureWarning: use_inf_as_na option is deprecated and will be removed in a future version. Convert inf values to NaN before operating instead.\n",
      "  with pd.option_context('mode.use_inf_as_na', True):\n"
     ]
    },
    {
     "data": {
      "text/plain": [
       "<Axes: xlabel='date', ylabel='new_cases_cumulata'>"
      ]
     },
     "execution_count": 59,
     "metadata": {},
     "output_type": "execute_result"
    },
    {
     "data": {
      "image/png": "[encoded data removed]",
      "text/plain": [
       "<Figure size 640x480 with 1 Axes>"
      ]
     },
     "metadata": {},
     "output_type": "display_data"
    }
   ],
   "source": [
    "sns.lineplot(filtro_2022_italia, x='date', y='new_cases_cumulata')"
   ]
  },
  {
   "cell_type": "code",
   "execution_count": null,
   "id": "bf8313be",
   "metadata": {},
   "outputs": [],
   "source": [
    "Come si puo notare nei grafici new_cases_cumulata e su total_cases l'andamento del grafico presenta lo stesso andamento, mentre per il grafico\n",
    "riguardante i new_cases diverge"
   ]
  },
  {
   "cell_type": "code",
   "execution_count": null,
   "id": "294ac379-2e38-4e8d-b377-cd27c3aa901e",
   "metadata": {},
   "outputs": [],
   "source": [
    "'''Riguardo le nazioni di Italia, Germania e Francia, mostrare in un boxplot la differenza tra queste nazioni riguardo il numero di pazienti\n",
    "in terapia intensiva (Intensive Care Unit, ICU) da maggio 2022 (incluso) ad aprile 2023 (incluso), e scrivere un breve commento a riguardo;'''"
   ]
  },
  {
   "cell_type": "code",
   "execution_count": 87,
   "id": "ec262d4a-bd21-4394-8abe-65d5897dad05",
   "metadata": {},
   "outputs": [
    {
     "data": {
      "text/html": [
       "<div>\n",
       "<style scoped>\n",
       "    .dataframe tbody tr th:only-of-type {\n",
       "        vertical-align: middle;\n",
       "    }\n",
       "\n",
       "    .dataframe tbody tr th {\n",
       "        vertical-align: top;\n",
       "    }\n",
       "\n",
       "    .dataframe thead th {\n",
       "        text-align: right;\n",
       "    }\n",
       "</style>\n",
       "<table border=\"1\" class=\"dataframe\">\n",
       "  <thead>\n",
       "    <tr style=\"text-align: right;\">\n",
       "      <th></th>\n",
       "      <th>continent</th>\n",
       "      <th>casi_max</th>\n",
       "      <th>casi_medi</th>\n",
       "      <th>cas_tot</th>\n",
       "      <th>percentuali</th>\n",
       "    </tr>\n",
       "  </thead>\n",
       "  <tbody>\n",
       "    <tr>\n",
       "      <th>0</th>\n",
       "      <td>Africa</td>\n",
       "      <td>162987.0</td>\n",
       "      <td>144.404660</td>\n",
       "      <td>13144001.0</td>\n",
       "      <td>0.399905</td>\n",
       "    </tr>\n",
       "    <tr>\n",
       "      <th>1</th>\n",
       "      <td>Asia</td>\n",
       "      <td>40475477.0</td>\n",
       "      <td>4016.918128</td>\n",
       "      <td>301493807.0</td>\n",
       "      <td>9.172915</td>\n",
       "    </tr>\n",
       "    <tr>\n",
       "      <th>2</th>\n",
       "      <td>Europe</td>\n",
       "      <td>2417043.0</td>\n",
       "      <td>3138.010485</td>\n",
       "      <td>252591016.0</td>\n",
       "      <td>7.685053</td>\n",
       "    </tr>\n",
       "    <tr>\n",
       "      <th>3</th>\n",
       "      <td>North America</td>\n",
       "      <td>5650933.0</td>\n",
       "      <td>1913.288229</td>\n",
       "      <td>124570370.0</td>\n",
       "      <td>3.790039</td>\n",
       "    </tr>\n",
       "    <tr>\n",
       "      <th>4</th>\n",
       "      <td>Oceania</td>\n",
       "      <td>588813.0</td>\n",
       "      <td>390.133855</td>\n",
       "      <td>14951880.0</td>\n",
       "      <td>0.000012</td>\n",
       "    </tr>\n",
       "    <tr>\n",
       "      <th>5</th>\n",
       "      <td>South America</td>\n",
       "      <td>1283024.0</td>\n",
       "      <td>3079.069330</td>\n",
       "      <td>68838753.0</td>\n",
       "      <td>2.094411</td>\n",
       "    </tr>\n",
       "  </tbody>\n",
       "</table>\n",
       "</div>"
      ],
      "text/plain": [
       "       continent    casi_max    casi_medi      cas_tot  percentuali\n",
       "0         Africa    162987.0   144.404660   13144001.0     0.399905\n",
       "1           Asia  40475477.0  4016.918128  301493807.0     9.172915\n",
       "2         Europe   2417043.0  3138.010485  252591016.0     7.685053\n",
       "3  North America   5650933.0  1913.288229  124570370.0     3.790039\n",
       "4        Oceania    588813.0   390.133855   14951880.0     0.000012\n",
       "5  South America   1283024.0  3079.069330   68838753.0     2.094411"
      ]
     },
     "execution_count": 87,
     "metadata": {},
     "output_type": "execute_result"
    }
   ],
   "source": []
  },
  {
   "cell_type": "code",
   "execution_count": 89,
   "id": "c3b84637-13b6-4a05-80e2-863a2a033e12",
   "metadata": {},
   "outputs": [
    {
     "data": {
      "text/html": [
       "<div>\n",
       "<style scoped>\n",
       "    .dataframe tbody tr th:only-of-type {\n",
       "        vertical-align: middle;\n",
       "    }\n",
       "\n",
       "    .dataframe tbody tr th {\n",
       "        vertical-align: top;\n",
       "    }\n",
       "\n",
       "    .dataframe thead th {\n",
       "        text-align: right;\n",
       "    }\n",
       "</style>\n",
       "<table border=\"1\" class=\"dataframe\">\n",
       "  <thead>\n",
       "    <tr style=\"text-align: right;\">\n",
       "      <th></th>\n",
       "      <th>iso_code</th>\n",
       "      <th>continent</th>\n",
       "      <th>location</th>\n",
       "      <th>date</th>\n",
       "      <th>total_cases</th>\n",
       "      <th>new_cases</th>\n",
       "      <th>new_cases_smoothed</th>\n",
       "      <th>total_deaths</th>\n",
       "      <th>new_deaths</th>\n",
       "      <th>new_deaths_smoothed</th>\n",
       "      <th>...</th>\n",
       "      <th>male_smokers</th>\n",
       "      <th>handwashing_facilities</th>\n",
       "      <th>hospital_beds_per_thousand</th>\n",
       "      <th>life_expectancy</th>\n",
       "      <th>human_development_index</th>\n",
       "      <th>population</th>\n",
       "      <th>excess_mortality_cumulative_absolute</th>\n",
       "      <th>excess_mortality_cumulative</th>\n",
       "      <th>excess_mortality</th>\n",
       "      <th>excess_mortality_cumulative_per_million</th>\n",
       "    </tr>\n",
       "  </thead>\n",
       "  <tbody>\n",
       "    <tr>\n",
       "      <th>0</th>\n",
       "      <td>AFG</td>\n",
       "      <td>Asia</td>\n",
       "      <td>Afghanistan</td>\n",
       "      <td>2020-01-05</td>\n",
       "      <td>NaN</td>\n",
       "      <td>0.0</td>\n",
       "      <td>NaN</td>\n",
       "      <td>NaN</td>\n",
       "      <td>0.0</td>\n",
       "      <td>NaN</td>\n",
       "      <td>...</td>\n",
       "      <td>NaN</td>\n",
       "      <td>37.746</td>\n",
       "      <td>0.5</td>\n",
       "      <td>64.83</td>\n",
       "      <td>0.511</td>\n",
       "      <td>41128772.0</td>\n",
       "      <td>NaN</td>\n",
       "      <td>NaN</td>\n",
       "      <td>NaN</td>\n",
       "      <td>NaN</td>\n",
       "    </tr>\n",
       "    <tr>\n",
       "      <th>1</th>\n",
       "      <td>AFG</td>\n",
       "      <td>Asia</td>\n",
       "      <td>Afghanistan</td>\n",
       "      <td>2020-01-06</td>\n",
       "      <td>NaN</td>\n",
       "      <td>0.0</td>\n",
       "      <td>NaN</td>\n",
       "      <td>NaN</td>\n",
       "      <td>0.0</td>\n",
       "      <td>NaN</td>\n",
       "      <td>...</td>\n",
       "      <td>NaN</td>\n",
       "      <td>37.746</td>\n",
       "      <td>0.5</td>\n",
       "      <td>64.83</td>\n",
       "      <td>0.511</td>\n",
       "      <td>41128772.0</td>\n",
       "      <td>NaN</td>\n",
       "      <td>NaN</td>\n",
       "      <td>NaN</td>\n",
       "      <td>NaN</td>\n",
       "    </tr>\n",
       "    <tr>\n",
       "      <th>2</th>\n",
       "      <td>AFG</td>\n",
       "      <td>Asia</td>\n",
       "      <td>Afghanistan</td>\n",
       "      <td>2020-01-07</td>\n",
       "      <td>NaN</td>\n",
       "      <td>0.0</td>\n",
       "      <td>NaN</td>\n",
       "      <td>NaN</td>\n",
       "      <td>0.0</td>\n",
       "      <td>NaN</td>\n",
       "      <td>...</td>\n",
       "      <td>NaN</td>\n",
       "      <td>37.746</td>\n",
       "      <td>0.5</td>\n",
       "      <td>64.83</td>\n",
       "      <td>0.511</td>\n",
       "      <td>41128772.0</td>\n",
       "      <td>NaN</td>\n",
       "      <td>NaN</td>\n",
       "      <td>NaN</td>\n",
       "      <td>NaN</td>\n",
       "    </tr>\n",
       "    <tr>\n",
       "      <th>3</th>\n",
       "      <td>AFG</td>\n",
       "      <td>Asia</td>\n",
       "      <td>Afghanistan</td>\n",
       "      <td>2020-01-08</td>\n",
       "      <td>NaN</td>\n",
       "      <td>0.0</td>\n",
       "      <td>NaN</td>\n",
       "      <td>NaN</td>\n",
       "      <td>0.0</td>\n",
       "      <td>NaN</td>\n",
       "      <td>...</td>\n",
       "      <td>NaN</td>\n",
       "      <td>37.746</td>\n",
       "      <td>0.5</td>\n",
       "      <td>64.83</td>\n",
       "      <td>0.511</td>\n",
       "      <td>41128772.0</td>\n",
       "      <td>NaN</td>\n",
       "      <td>NaN</td>\n",
       "      <td>NaN</td>\n",
       "      <td>NaN</td>\n",
       "    </tr>\n",
       "    <tr>\n",
       "      <th>4</th>\n",
       "      <td>AFG</td>\n",
       "      <td>Asia</td>\n",
       "      <td>Afghanistan</td>\n",
       "      <td>2020-01-09</td>\n",
       "      <td>NaN</td>\n",
       "      <td>0.0</td>\n",
       "      <td>NaN</td>\n",
       "      <td>NaN</td>\n",
       "      <td>0.0</td>\n",
       "      <td>NaN</td>\n",
       "      <td>...</td>\n",
       "      <td>NaN</td>\n",
       "      <td>37.746</td>\n",
       "      <td>0.5</td>\n",
       "      <td>64.83</td>\n",
       "      <td>0.511</td>\n",
       "      <td>41128772.0</td>\n",
       "      <td>NaN</td>\n",
       "      <td>NaN</td>\n",
       "      <td>NaN</td>\n",
       "      <td>NaN</td>\n",
       "    </tr>\n",
       "    <tr>\n",
       "      <th>...</th>\n",
       "      <td>...</td>\n",
       "      <td>...</td>\n",
       "      <td>...</td>\n",
       "      <td>...</td>\n",
       "      <td>...</td>\n",
       "      <td>...</td>\n",
       "      <td>...</td>\n",
       "      <td>...</td>\n",
       "      <td>...</td>\n",
       "      <td>...</td>\n",
       "      <td>...</td>\n",
       "      <td>...</td>\n",
       "      <td>...</td>\n",
       "      <td>...</td>\n",
       "      <td>...</td>\n",
       "      <td>...</td>\n",
       "      <td>...</td>\n",
       "      <td>...</td>\n",
       "      <td>...</td>\n",
       "      <td>...</td>\n",
       "      <td>...</td>\n",
       "    </tr>\n",
       "    <tr>\n",
       "      <th>402712</th>\n",
       "      <td>ZWE</td>\n",
       "      <td>Africa</td>\n",
       "      <td>Zimbabwe</td>\n",
       "      <td>2024-05-15</td>\n",
       "      <td>266362.0</td>\n",
       "      <td>0.0</td>\n",
       "      <td>0.0</td>\n",
       "      <td>5740.0</td>\n",
       "      <td>0.0</td>\n",
       "      <td>0.0</td>\n",
       "      <td>...</td>\n",
       "      <td>30.7</td>\n",
       "      <td>36.791</td>\n",
       "      <td>1.7</td>\n",
       "      <td>61.49</td>\n",
       "      <td>0.571</td>\n",
       "      <td>16320539.0</td>\n",
       "      <td>NaN</td>\n",
       "      <td>NaN</td>\n",
       "      <td>NaN</td>\n",
       "      <td>NaN</td>\n",
       "    </tr>\n",
       "    <tr>\n",
       "      <th>402713</th>\n",
       "      <td>ZWE</td>\n",
       "      <td>Africa</td>\n",
       "      <td>Zimbabwe</td>\n",
       "      <td>2024-05-16</td>\n",
       "      <td>266362.0</td>\n",
       "      <td>0.0</td>\n",
       "      <td>0.0</td>\n",
       "      <td>5740.0</td>\n",
       "      <td>0.0</td>\n",
       "      <td>0.0</td>\n",
       "      <td>...</td>\n",
       "      <td>30.7</td>\n",
       "      <td>36.791</td>\n",
       "      <td>1.7</td>\n",
       "      <td>61.49</td>\n",
       "      <td>0.571</td>\n",
       "      <td>16320539.0</td>\n",
       "      <td>NaN</td>\n",
       "      <td>NaN</td>\n",
       "      <td>NaN</td>\n",
       "      <td>NaN</td>\n",
       "    </tr>\n",
       "    <tr>\n",
       "      <th>402714</th>\n",
       "      <td>ZWE</td>\n",
       "      <td>Africa</td>\n",
       "      <td>Zimbabwe</td>\n",
       "      <td>2024-05-17</td>\n",
       "      <td>266362.0</td>\n",
       "      <td>0.0</td>\n",
       "      <td>0.0</td>\n",
       "      <td>5740.0</td>\n",
       "      <td>0.0</td>\n",
       "      <td>0.0</td>\n",
       "      <td>...</td>\n",
       "      <td>30.7</td>\n",
       "      <td>36.791</td>\n",
       "      <td>1.7</td>\n",
       "      <td>61.49</td>\n",
       "      <td>0.571</td>\n",
       "      <td>16320539.0</td>\n",
       "      <td>NaN</td>\n",
       "      <td>NaN</td>\n",
       "      <td>NaN</td>\n",
       "      <td>NaN</td>\n",
       "    </tr>\n",
       "    <tr>\n",
       "      <th>402715</th>\n",
       "      <td>ZWE</td>\n",
       "      <td>Africa</td>\n",
       "      <td>Zimbabwe</td>\n",
       "      <td>2024-05-18</td>\n",
       "      <td>266362.0</td>\n",
       "      <td>0.0</td>\n",
       "      <td>0.0</td>\n",
       "      <td>5740.0</td>\n",
       "      <td>0.0</td>\n",
       "      <td>0.0</td>\n",
       "      <td>...</td>\n",
       "      <td>30.7</td>\n",
       "      <td>36.791</td>\n",
       "      <td>1.7</td>\n",
       "      <td>61.49</td>\n",
       "      <td>0.571</td>\n",
       "      <td>16320539.0</td>\n",
       "      <td>NaN</td>\n",
       "      <td>NaN</td>\n",
       "      <td>NaN</td>\n",
       "      <td>NaN</td>\n",
       "    </tr>\n",
       "    <tr>\n",
       "      <th>402716</th>\n",
       "      <td>ZWE</td>\n",
       "      <td>Africa</td>\n",
       "      <td>Zimbabwe</td>\n",
       "      <td>2024-05-19</td>\n",
       "      <td>266362.0</td>\n",
       "      <td>0.0</td>\n",
       "      <td>0.0</td>\n",
       "      <td>5740.0</td>\n",
       "      <td>0.0</td>\n",
       "      <td>0.0</td>\n",
       "      <td>...</td>\n",
       "      <td>30.7</td>\n",
       "      <td>36.791</td>\n",
       "      <td>1.7</td>\n",
       "      <td>61.49</td>\n",
       "      <td>0.571</td>\n",
       "      <td>16320539.0</td>\n",
       "      <td>NaN</td>\n",
       "      <td>NaN</td>\n",
       "      <td>NaN</td>\n",
       "      <td>NaN</td>\n",
       "    </tr>\n",
       "  </tbody>\n",
       "</table>\n",
       "<p>402717 rows × 67 columns</p>\n",
       "</div>"
      ],
      "text/plain": [
       "       iso_code continent     location        date  total_cases  new_cases  \\\n",
       "0           AFG      Asia  Afghanistan  2020-01-05          NaN        0.0   \n",
       "1           AFG      Asia  Afghanistan  2020-01-06          NaN        0.0   \n",
       "2           AFG      Asia  Afghanistan  2020-01-07          NaN        0.0   \n",
       "3           AFG      Asia  Afghanistan  2020-01-08          NaN        0.0   \n",
       "4           AFG      Asia  Afghanistan  2020-01-09          NaN        0.0   \n",
       "...         ...       ...          ...         ...          ...        ...   \n",
       "402712      ZWE    Africa     Zimbabwe  2024-05-15     266362.0        0.0   \n",
       "402713      ZWE    Africa     Zimbabwe  2024-05-16     266362.0        0.0   \n",
       "402714      ZWE    Africa     Zimbabwe  2024-05-17     266362.0        0.0   \n",
       "402715      ZWE    Africa     Zimbabwe  2024-05-18     266362.0        0.0   \n",
       "402716      ZWE    Africa     Zimbabwe  2024-05-19     266362.0        0.0   \n",
       "\n",
       "        new_cases_smoothed  total_deaths  new_deaths  new_deaths_smoothed  \\\n",
       "0                      NaN           NaN         0.0                  NaN   \n",
       "1                      NaN           NaN         0.0                  NaN   \n",
       "2                      NaN           NaN         0.0                  NaN   \n",
       "3                      NaN           NaN         0.0                  NaN   \n",
       "4                      NaN           NaN         0.0                  NaN   \n",
       "...                    ...           ...         ...                  ...   \n",
       "402712                 0.0        5740.0         0.0                  0.0   \n",
       "402713                 0.0        5740.0         0.0                  0.0   \n",
       "402714                 0.0        5740.0         0.0                  0.0   \n",
       "402715                 0.0        5740.0         0.0                  0.0   \n",
       "402716                 0.0        5740.0         0.0                  0.0   \n",
       "\n",
       "        ...  male_smokers  handwashing_facilities  hospital_beds_per_thousand  \\\n",
       "0       ...           NaN                  37.746                         0.5   \n",
       "1       ...           NaN                  37.746                         0.5   \n",
       "2       ...           NaN                  37.746                         0.5   \n",
       "3       ...           NaN                  37.746                         0.5   \n",
       "4       ...           NaN                  37.746                         0.5   \n",
       "...     ...           ...                     ...                         ...   \n",
       "402712  ...          30.7                  36.791                         1.7   \n",
       "402713  ...          30.7                  36.791                         1.7   \n",
       "402714  ...          30.7                  36.791                         1.7   \n",
       "402715  ...          30.7                  36.791                         1.7   \n",
       "402716  ...          30.7                  36.791                         1.7   \n",
       "\n",
       "        life_expectancy  human_development_index  population  \\\n",
       "0                 64.83                    0.511  41128772.0   \n",
       "1                 64.83                    0.511  41128772.0   \n",
       "2                 64.83                    0.511  41128772.0   \n",
       "3                 64.83                    0.511  41128772.0   \n",
       "4                 64.83                    0.511  41128772.0   \n",
       "...                 ...                      ...         ...   \n",
       "402712            61.49                    0.571  16320539.0   \n",
       "402713            61.49                    0.571  16320539.0   \n",
       "402714            61.49                    0.571  16320539.0   \n",
       "402715            61.49                    0.571  16320539.0   \n",
       "402716            61.49                    0.571  16320539.0   \n",
       "\n",
       "        excess_mortality_cumulative_absolute  excess_mortality_cumulative  \\\n",
       "0                                        NaN                          NaN   \n",
       "1                                        NaN                          NaN   \n",
       "2                                        NaN                          NaN   \n",
       "3                                        NaN                          NaN   \n",
       "4                                        NaN                          NaN   \n",
       "...                                      ...                          ...   \n",
       "402712                                   NaN                          NaN   \n",
       "402713                                   NaN                          NaN   \n",
       "402714                                   NaN                          NaN   \n",
       "402715                                   NaN                          NaN   \n",
       "402716                                   NaN                          NaN   \n",
       "\n",
       "        excess_mortality  excess_mortality_cumulative_per_million  \n",
       "0                    NaN                                      NaN  \n",
       "1                    NaN                                      NaN  \n",
       "2                    NaN                                      NaN  \n",
       "3                    NaN                                      NaN  \n",
       "4                    NaN                                      NaN  \n",
       "...                  ...                                      ...  \n",
       "402712               NaN                                      NaN  \n",
       "402713               NaN                                      NaN  \n",
       "402714               NaN                                      NaN  \n",
       "402715               NaN                                      NaN  \n",
       "402716               NaN                                      NaN  \n",
       "\n",
       "[402717 rows x 67 columns]"
      ]
     },
     "execution_count": 89,
     "metadata": {},
     "output_type": "execute_result"
    }
   ],
   "source": [
    "df   #ho caricato nuovamete df perche l'avevo modificto prendendo solo continenti con colonne che mi interessavano"
   ]
  },
  {
   "cell_type": "code",
   "execution_count": null,
   "id": "17abfe65-eb8d-4ec3-a7e9-d47074806cff",
   "metadata": {},
   "outputs": [],
   "source": [
    "'''Riguardo le nazioni di Italia, Germania e Francia, mostrare in un boxplot la differenza tra queste nazioni riguardo il numero di pazienti\n",
    "in terapia intensiva (Intensive Care Unit, ICU) da maggio 2022 (incluso) ad aprile 2023 (incluso), e scrivere un breve commento a riguardo;'''"
   ]
  },
  {
   "cell_type": "code",
   "execution_count": 90,
   "id": "2170fd57-3051-4a59-b938-667c4cc21899",
   "metadata": {},
   "outputs": [],
   "source": [
    "df['date'] = pd.to_datetime(df['date'])   #conversione stringhe in formato data"
   ]
  },
  {
   "cell_type": "code",
   "execution_count": 91,
   "id": "6a7ceee1-0fcf-4add-91fe-eab9622d7143",
   "metadata": {},
   "outputs": [],
   "source": [
    "start_date = '2022-05-01'\n",
    "end_date = '2023-04-30'\n",
    "filtro = (df['location'] == 'Italy') & (df['date'] >= start_date) & (df['date'] <= end_date)\n",
    "df_filtrato_italia = df.loc[filtro, ['date', 'icu_patients_per_million']]"
   ]
  },
  {
   "cell_type": "code",
   "execution_count": 92,
   "id": "72d011f3-6561-4d7c-bfa4-794540bccfc0",
   "metadata": {},
   "outputs": [
    {
     "data": {
      "text/html": [
       "<div>\n",
       "<style scoped>\n",
       "    .dataframe tbody tr th:only-of-type {\n",
       "        vertical-align: middle;\n",
       "    }\n",
       "\n",
       "    .dataframe tbody tr th {\n",
       "        vertical-align: top;\n",
       "    }\n",
       "\n",
       "    .dataframe thead th {\n",
       "        text-align: right;\n",
       "    }\n",
       "</style>\n",
       "<table border=\"1\" class=\"dataframe\">\n",
       "  <thead>\n",
       "    <tr style=\"text-align: right;\">\n",
       "      <th></th>\n",
       "      <th>date</th>\n",
       "      <th>icu_patients_per_million</th>\n",
       "    </tr>\n",
       "  </thead>\n",
       "  <tbody>\n",
       "    <tr>\n",
       "      <th>173184</th>\n",
       "      <td>2022-05-01</td>\n",
       "      <td>6.199</td>\n",
       "    </tr>\n",
       "    <tr>\n",
       "      <th>173185</th>\n",
       "      <td>2022-05-02</td>\n",
       "      <td>6.233</td>\n",
       "    </tr>\n",
       "    <tr>\n",
       "      <th>173186</th>\n",
       "      <td>2022-05-03</td>\n",
       "      <td>6.199</td>\n",
       "    </tr>\n",
       "    <tr>\n",
       "      <th>173187</th>\n",
       "      <td>2022-05-04</td>\n",
       "      <td>6.284</td>\n",
       "    </tr>\n",
       "    <tr>\n",
       "      <th>173188</th>\n",
       "      <td>2022-05-05</td>\n",
       "      <td>6.250</td>\n",
       "    </tr>\n",
       "    <tr>\n",
       "      <th>...</th>\n",
       "      <td>...</td>\n",
       "      <td>...</td>\n",
       "    </tr>\n",
       "    <tr>\n",
       "      <th>173544</th>\n",
       "      <td>2023-04-26</td>\n",
       "      <td>1.694</td>\n",
       "    </tr>\n",
       "    <tr>\n",
       "      <th>173545</th>\n",
       "      <td>2023-04-27</td>\n",
       "      <td>1.677</td>\n",
       "    </tr>\n",
       "    <tr>\n",
       "      <th>173546</th>\n",
       "      <td>2023-04-28</td>\n",
       "      <td>1.779</td>\n",
       "    </tr>\n",
       "    <tr>\n",
       "      <th>173547</th>\n",
       "      <td>2023-04-29</td>\n",
       "      <td>1.880</td>\n",
       "    </tr>\n",
       "    <tr>\n",
       "      <th>173548</th>\n",
       "      <td>2023-04-30</td>\n",
       "      <td>1.745</td>\n",
       "    </tr>\n",
       "  </tbody>\n",
       "</table>\n",
       "<p>365 rows × 2 columns</p>\n",
       "</div>"
      ],
      "text/plain": [
       "             date  icu_patients_per_million\n",
       "173184 2022-05-01                     6.199\n",
       "173185 2022-05-02                     6.233\n",
       "173186 2022-05-03                     6.199\n",
       "173187 2022-05-04                     6.284\n",
       "173188 2022-05-05                     6.250\n",
       "...           ...                       ...\n",
       "173544 2023-04-26                     1.694\n",
       "173545 2023-04-27                     1.677\n",
       "173546 2023-04-28                     1.779\n",
       "173547 2023-04-29                     1.880\n",
       "173548 2023-04-30                     1.745\n",
       "\n",
       "[365 rows x 2 columns]"
      ]
     },
     "execution_count": 92,
     "metadata": {},
     "output_type": "execute_result"
    }
   ],
   "source": [
    "df_filtrato_italia"
   ]
  },
  {
   "cell_type": "code",
   "execution_count": 93,
   "id": "8ed3ca50-10d2-4a31-83b6-41069d8bc3f2",
   "metadata": {},
   "outputs": [],
   "source": [
    "import seaborn as sns"
   ]
  },
  {
   "cell_type": "code",
   "execution_count": null,
   "id": "b4932e5d",
   "metadata": {},
   "outputs": [],
   "source": [
    "#per fare un confronto tra nazioni e rendelo sotto la stessa unita di misura è meglio verificare per icu_patients_per_million che da il dato\n",
    "sulla popolazione (in questa caso per milione)."
   ]
  },
  {
   "cell_type": "code",
   "execution_count": 94,
   "id": "8cc51bcb-ab1a-421e-8d2c-8fb15c4ba9d7",
   "metadata": {},
   "outputs": [
    {
     "data": {
      "text/plain": [
       "<Axes: >"
      ]
     },
     "execution_count": 94,
     "metadata": {},
     "output_type": "execute_result"
    },
    {
     "data": {
      "image/png": "[encoded data removed]",
      "text/plain": [
       "<Figure size 640x480 with 1 Axes>"
      ]
     },
     "metadata": {},
     "output_type": "display_data"
    }
   ],
   "source": [
    "df_filtrato_italia['icu_patients_per_million'].plot(kind='box')"
   ]
  },
  {
   "cell_type": "code",
   "execution_count": 95,
   "id": "7e0e1777-0deb-4db4-83c9-bab083f873d5",
   "metadata": {},
   "outputs": [],
   "source": [
    "start_date = '2022-05-01'\n",
    "end_date = '2023-04-30'\n",
    "filtro = (df['location'] == 'Germany') & (df['date'] >= start_date) & (df['date'] <= end_date)\n",
    "df_filtrato_germania = df.loc[filtro, ['date', 'icu_patients_per_million']]"
   ]
  },
  {
   "cell_type": "code",
   "execution_count": 96,
   "id": "db43431a-5958-498e-9c90-86134cdfba05",
   "metadata": {},
   "outputs": [
    {
     "data": {
      "text/html": [
       "<div>\n",
       "<style scoped>\n",
       "    .dataframe tbody tr th:only-of-type {\n",
       "        vertical-align: middle;\n",
       "    }\n",
       "\n",
       "    .dataframe tbody tr th {\n",
       "        vertical-align: top;\n",
       "    }\n",
       "\n",
       "    .dataframe thead th {\n",
       "        text-align: right;\n",
       "    }\n",
       "</style>\n",
       "<table border=\"1\" class=\"dataframe\">\n",
       "  <thead>\n",
       "    <tr style=\"text-align: right;\">\n",
       "      <th></th>\n",
       "      <th>date</th>\n",
       "      <th>icu_patients_per_million</th>\n",
       "    </tr>\n",
       "  </thead>\n",
       "  <tbody>\n",
       "    <tr>\n",
       "      <th>131660</th>\n",
       "      <td>2022-05-01</td>\n",
       "      <td>16.037</td>\n",
       "    </tr>\n",
       "    <tr>\n",
       "      <th>131661</th>\n",
       "      <td>2022-05-02</td>\n",
       "      <td>15.869</td>\n",
       "    </tr>\n",
       "    <tr>\n",
       "      <th>131662</th>\n",
       "      <td>2022-05-03</td>\n",
       "      <td>15.329</td>\n",
       "    </tr>\n",
       "    <tr>\n",
       "      <th>131663</th>\n",
       "      <td>2022-05-04</td>\n",
       "      <td>14.418</td>\n",
       "    </tr>\n",
       "    <tr>\n",
       "      <th>131664</th>\n",
       "      <td>2022-05-05</td>\n",
       "      <td>14.106</td>\n",
       "    </tr>\n",
       "    <tr>\n",
       "      <th>...</th>\n",
       "      <td>...</td>\n",
       "      <td>...</td>\n",
       "    </tr>\n",
       "    <tr>\n",
       "      <th>132020</th>\n",
       "      <td>2023-04-26</td>\n",
       "      <td>6.645</td>\n",
       "    </tr>\n",
       "    <tr>\n",
       "      <th>132021</th>\n",
       "      <td>2023-04-27</td>\n",
       "      <td>6.537</td>\n",
       "    </tr>\n",
       "    <tr>\n",
       "      <th>132022</th>\n",
       "      <td>2023-04-28</td>\n",
       "      <td>6.237</td>\n",
       "    </tr>\n",
       "    <tr>\n",
       "      <th>132023</th>\n",
       "      <td>2023-04-29</td>\n",
       "      <td>6.189</td>\n",
       "    </tr>\n",
       "    <tr>\n",
       "      <th>132024</th>\n",
       "      <td>2023-04-30</td>\n",
       "      <td>6.141</td>\n",
       "    </tr>\n",
       "  </tbody>\n",
       "</table>\n",
       "<p>365 rows × 2 columns</p>\n",
       "</div>"
      ],
      "text/plain": [
       "             date  icu_patients_per_million\n",
       "131660 2022-05-01                    16.037\n",
       "131661 2022-05-02                    15.869\n",
       "131662 2022-05-03                    15.329\n",
       "131663 2022-05-04                    14.418\n",
       "131664 2022-05-05                    14.106\n",
       "...           ...                       ...\n",
       "132020 2023-04-26                     6.645\n",
       "132021 2023-04-27                     6.537\n",
       "132022 2023-04-28                     6.237\n",
       "132023 2023-04-29                     6.189\n",
       "132024 2023-04-30                     6.141\n",
       "\n",
       "[365 rows x 2 columns]"
      ]
     },
     "execution_count": 96,
     "metadata": {},
     "output_type": "execute_result"
    }
   ],
   "source": [
    "df_filtrato_germania"
   ]
  },
  {
   "cell_type": "code",
   "execution_count": 97,
   "id": "cbfd9ef4-04e3-4926-8343-d2472bbb02ad",
   "metadata": {},
   "outputs": [
    {
     "data": {
      "text/plain": [
       "<Axes: >"
      ]
     },
     "execution_count": 97,
     "metadata": {},
     "output_type": "execute_result"
    },
    {
     "data": {
      "image/png": "[encoded data removed]",
      "text/plain": [
       "<Figure size 640x480 with 1 Axes>"
      ]
     },
     "metadata": {},
     "output_type": "display_data"
    }
   ],
   "source": [
    "df_filtrato_germania['icu_patients_per_million'].plot(kind='box')"
   ]
  },
  {
   "cell_type": "code",
   "execution_count": 98,
   "id": "e83ec49b-db97-4a23-8aa1-038d81d94375",
   "metadata": {},
   "outputs": [],
   "source": [
    "start_date = '2022-05-01'\n",
    "end_date = '2023-04-30'\n",
    "filtro = (df['location'] == 'France') & (df['date'] >= start_date) & (df['date'] <= end_date)\n",
    "df_filtrato_francia = df.loc[filtro, ['date', 'icu_patients_per_million']]"
   ]
  },
  {
   "cell_type": "code",
   "execution_count": 99,
   "id": "b3b5f7b7-ffaf-40dc-9dd0-4878af747adc",
   "metadata": {},
   "outputs": [
    {
     "data": {
      "text/html": [
       "<div>\n",
       "<style scoped>\n",
       "    .dataframe tbody tr th:only-of-type {\n",
       "        vertical-align: middle;\n",
       "    }\n",
       "\n",
       "    .dataframe tbody tr th {\n",
       "        vertical-align: top;\n",
       "    }\n",
       "\n",
       "    .dataframe thead th {\n",
       "        text-align: right;\n",
       "    }\n",
       "</style>\n",
       "<table border=\"1\" class=\"dataframe\">\n",
       "  <thead>\n",
       "    <tr style=\"text-align: right;\">\n",
       "      <th></th>\n",
       "      <th>date</th>\n",
       "      <th>icu_patients_per_million</th>\n",
       "    </tr>\n",
       "  </thead>\n",
       "  <tbody>\n",
       "    <tr>\n",
       "      <th>122078</th>\n",
       "      <td>2022-05-01</td>\n",
       "      <td>22.960</td>\n",
       "    </tr>\n",
       "    <tr>\n",
       "      <th>122079</th>\n",
       "      <td>2022-05-02</td>\n",
       "      <td>22.282</td>\n",
       "    </tr>\n",
       "    <tr>\n",
       "      <th>122080</th>\n",
       "      <td>2022-05-03</td>\n",
       "      <td>22.090</td>\n",
       "    </tr>\n",
       "    <tr>\n",
       "      <th>122081</th>\n",
       "      <td>2022-05-04</td>\n",
       "      <td>21.604</td>\n",
       "    </tr>\n",
       "    <tr>\n",
       "      <th>122082</th>\n",
       "      <td>2022-05-05</td>\n",
       "      <td>21.338</td>\n",
       "    </tr>\n",
       "    <tr>\n",
       "      <th>...</th>\n",
       "      <td>...</td>\n",
       "      <td>...</td>\n",
       "    </tr>\n",
       "    <tr>\n",
       "      <th>122438</th>\n",
       "      <td>2023-04-26</td>\n",
       "      <td>NaN</td>\n",
       "    </tr>\n",
       "    <tr>\n",
       "      <th>122439</th>\n",
       "      <td>2023-04-27</td>\n",
       "      <td>NaN</td>\n",
       "    </tr>\n",
       "    <tr>\n",
       "      <th>122440</th>\n",
       "      <td>2023-04-28</td>\n",
       "      <td>NaN</td>\n",
       "    </tr>\n",
       "    <tr>\n",
       "      <th>122441</th>\n",
       "      <td>2023-04-29</td>\n",
       "      <td>NaN</td>\n",
       "    </tr>\n",
       "    <tr>\n",
       "      <th>122442</th>\n",
       "      <td>2023-04-30</td>\n",
       "      <td>NaN</td>\n",
       "    </tr>\n",
       "  </tbody>\n",
       "</table>\n",
       "<p>365 rows × 2 columns</p>\n",
       "</div>"
      ],
      "text/plain": [
       "             date  icu_patients_per_million\n",
       "122078 2022-05-01                    22.960\n",
       "122079 2022-05-02                    22.282\n",
       "122080 2022-05-03                    22.090\n",
       "122081 2022-05-04                    21.604\n",
       "122082 2022-05-05                    21.338\n",
       "...           ...                       ...\n",
       "122438 2023-04-26                       NaN\n",
       "122439 2023-04-27                       NaN\n",
       "122440 2023-04-28                       NaN\n",
       "122441 2023-04-29                       NaN\n",
       "122442 2023-04-30                       NaN\n",
       "\n",
       "[365 rows x 2 columns]"
      ]
     },
     "execution_count": 99,
     "metadata": {},
     "output_type": "execute_result"
    }
   ],
   "source": [
    "df_filtrato_francia"
   ]
  },
  {
   "cell_type": "code",
   "execution_count": 100,
   "id": "b23ca1ee-0ab8-423c-8f64-e4efbd31e3ae",
   "metadata": {},
   "outputs": [
    {
     "data": {
      "text/plain": [
       "<Axes: >"
      ]
     },
     "execution_count": 100,
     "metadata": {},
     "output_type": "execute_result"
    },
    {
     "data": {
      "image/png": "[encoded data removed]",
      "text/plain": [
       "<Figure size 640x480 with 1 Axes>"
      ]
     },
     "metadata": {},
     "output_type": "display_data"
    }
   ],
   "source": [
    "df_filtrato_francia['icu_patients_per_million'].plot(kind='box')"
   ]
  },
  {
   "cell_type": "code",
   "execution_count": null,
   "id": "28e65be6-d6cd-4e43-82d6-84e61e87bfa6",
   "metadata": {},
   "outputs": [],
   "source": [
    "###Conclusioni: Tra le 3, la Francia ha il più alto numero mediano di pazienti in terapia intensiva per milione di abitanti, \n",
    "indicando una pressione maggiore sui presidi di terapia intensiva rispetto a Germania e Italia.\n",
    "La Germania sebbene abbia una mediana piu bassa rispetto alla Francia, mostra una maggiore variabilità (differenza tra minimo e massimo più ampia).\n",
    "Fanalino di coda, l'iTalia,cHe ha sia la mediana più bassa sia i valori minimi e massimi più bassi, indicando una minore pressione sulle unità di terapia intensiva rispetto\n",
    " agli altri due Stati.\n",
    "\n",
    "   \n",
    "\n"
   ]
  },
  {
   "cell_type": "code",
   "execution_count": null,
   "id": "eed0bb01-03cc-4dae-a3f7-f48156bb7921",
   "metadata": {},
   "outputs": [],
   "source": []
  },
  {
   "cell_type": "code",
   "execution_count": null,
   "id": "0c1a27d5-3228-4436-9ef1-f6a88eeb4262",
   "metadata": {},
   "outputs": [],
   "source": [
    "'''Riguardo le nazioni di Italia, Germania, Francia e Spagna nel 2023, mostrare la somma dei pazienti ospitalizzati per ognuna \n",
    "— se ci sono dati nulli, suggerire se può essere possibile gestirli tramite sostituzione o meno.\n",
    "\n",
    "'''"
   ]
  },
  {
   "cell_type": "code",
   "execution_count": null,
   "id": "0290548c-d91e-4ad6-9b85-d7487418fcf7",
   "metadata": {},
   "outputs": [],
   "source": [
    "###per fare un confronto tra nazioni e rendelo sotto la stessa unita di misura è meglio verificare per hosp_patients_per_million che da il dato\n",
    "sulla popolazione (in questa caso per milione).\n",
    "Il dato hosp_patients_per_million cosi come hosp_patients sono dati cumulativi quindi non ha senso fare la somma di valori cumulativi, poichè\n",
    "è la fotografia a quella data. Ha piu senso fare il valore massimo"
   ]
  },
  {
   "cell_type": "code",
   "execution_count": 10,
   "id": "42b6ff05-086d-4aa7-8d81-60657646d41f",
   "metadata": {},
   "outputs": [],
   "source": [
    "df['date'] = pd.to_datetime(df['date'])  #conversione stringa in data"
   ]
  },
  {
   "cell_type": "code",
   "execution_count": 13,
   "id": "74220ab5",
   "metadata": {},
   "outputs": [
    {
     "data": {
      "text/plain": [
       "dtype('<M8[ns]')"
      ]
     },
     "execution_count": 13,
     "metadata": {},
     "output_type": "execute_result"
    }
   ],
   "source": [
    "df['date'].dtype   #verificato la conversione da obj a formato date"
   ]
  },
  {
   "cell_type": "code",
   "execution_count": 11,
   "id": "50ffe262",
   "metadata": {},
   "outputs": [],
   "source": [
    "df['year'] = df['date'].dt.year   #creazione nuova colonna creando anno"
   ]
  },
  {
   "cell_type": "code",
   "execution_count": 12,
   "id": "5b5e29a6",
   "metadata": {},
   "outputs": [
    {
     "data": {
      "text/html": [
       "<div>\n",
       "<style scoped>\n",
       "    .dataframe tbody tr th:only-of-type {\n",
       "        vertical-align: middle;\n",
       "    }\n",
       "\n",
       "    .dataframe tbody tr th {\n",
       "        vertical-align: top;\n",
       "    }\n",
       "\n",
       "    .dataframe thead th {\n",
       "        text-align: right;\n",
       "    }\n",
       "</style>\n",
       "<table border=\"1\" class=\"dataframe\">\n",
       "  <thead>\n",
       "    <tr style=\"text-align: right;\">\n",
       "      <th></th>\n",
       "      <th>iso_code</th>\n",
       "      <th>continent</th>\n",
       "      <th>location</th>\n",
       "      <th>date</th>\n",
       "      <th>total_cases</th>\n",
       "      <th>new_cases</th>\n",
       "      <th>new_cases_smoothed</th>\n",
       "      <th>total_deaths</th>\n",
       "      <th>new_deaths</th>\n",
       "      <th>new_deaths_smoothed</th>\n",
       "      <th>...</th>\n",
       "      <th>handwashing_facilities</th>\n",
       "      <th>hospital_beds_per_thousand</th>\n",
       "      <th>life_expectancy</th>\n",
       "      <th>human_development_index</th>\n",
       "      <th>population</th>\n",
       "      <th>excess_mortality_cumulative_absolute</th>\n",
       "      <th>excess_mortality_cumulative</th>\n",
       "      <th>excess_mortality</th>\n",
       "      <th>excess_mortality_cumulative_per_million</th>\n",
       "      <th>year</th>\n",
       "    </tr>\n",
       "  </thead>\n",
       "  <tbody>\n",
       "    <tr>\n",
       "      <th>0</th>\n",
       "      <td>AFG</td>\n",
       "      <td>Asia</td>\n",
       "      <td>Afghanistan</td>\n",
       "      <td>2020-01-05</td>\n",
       "      <td>NaN</td>\n",
       "      <td>0.0</td>\n",
       "      <td>NaN</td>\n",
       "      <td>NaN</td>\n",
       "      <td>0.0</td>\n",
       "      <td>NaN</td>\n",
       "      <td>...</td>\n",
       "      <td>37.746</td>\n",
       "      <td>0.5</td>\n",
       "      <td>64.83</td>\n",
       "      <td>0.511</td>\n",
       "      <td>41128772.0</td>\n",
       "      <td>NaN</td>\n",
       "      <td>NaN</td>\n",
       "      <td>NaN</td>\n",
       "      <td>NaN</td>\n",
       "      <td>2020</td>\n",
       "    </tr>\n",
       "    <tr>\n",
       "      <th>1</th>\n",
       "      <td>AFG</td>\n",
       "      <td>Asia</td>\n",
       "      <td>Afghanistan</td>\n",
       "      <td>2020-01-06</td>\n",
       "      <td>NaN</td>\n",
       "      <td>0.0</td>\n",
       "      <td>NaN</td>\n",
       "      <td>NaN</td>\n",
       "      <td>0.0</td>\n",
       "      <td>NaN</td>\n",
       "      <td>...</td>\n",
       "      <td>37.746</td>\n",
       "      <td>0.5</td>\n",
       "      <td>64.83</td>\n",
       "      <td>0.511</td>\n",
       "      <td>41128772.0</td>\n",
       "      <td>NaN</td>\n",
       "      <td>NaN</td>\n",
       "      <td>NaN</td>\n",
       "      <td>NaN</td>\n",
       "      <td>2020</td>\n",
       "    </tr>\n",
       "    <tr>\n",
       "      <th>2</th>\n",
       "      <td>AFG</td>\n",
       "      <td>Asia</td>\n",
       "      <td>Afghanistan</td>\n",
       "      <td>2020-01-07</td>\n",
       "      <td>NaN</td>\n",
       "      <td>0.0</td>\n",
       "      <td>NaN</td>\n",
       "      <td>NaN</td>\n",
       "      <td>0.0</td>\n",
       "      <td>NaN</td>\n",
       "      <td>...</td>\n",
       "      <td>37.746</td>\n",
       "      <td>0.5</td>\n",
       "      <td>64.83</td>\n",
       "      <td>0.511</td>\n",
       "      <td>41128772.0</td>\n",
       "      <td>NaN</td>\n",
       "      <td>NaN</td>\n",
       "      <td>NaN</td>\n",
       "      <td>NaN</td>\n",
       "      <td>2020</td>\n",
       "    </tr>\n",
       "    <tr>\n",
       "      <th>3</th>\n",
       "      <td>AFG</td>\n",
       "      <td>Asia</td>\n",
       "      <td>Afghanistan</td>\n",
       "      <td>2020-01-08</td>\n",
       "      <td>NaN</td>\n",
       "      <td>0.0</td>\n",
       "      <td>NaN</td>\n",
       "      <td>NaN</td>\n",
       "      <td>0.0</td>\n",
       "      <td>NaN</td>\n",
       "      <td>...</td>\n",
       "      <td>37.746</td>\n",
       "      <td>0.5</td>\n",
       "      <td>64.83</td>\n",
       "      <td>0.511</td>\n",
       "      <td>41128772.0</td>\n",
       "      <td>NaN</td>\n",
       "      <td>NaN</td>\n",
       "      <td>NaN</td>\n",
       "      <td>NaN</td>\n",
       "      <td>2020</td>\n",
       "    </tr>\n",
       "    <tr>\n",
       "      <th>4</th>\n",
       "      <td>AFG</td>\n",
       "      <td>Asia</td>\n",
       "      <td>Afghanistan</td>\n",
       "      <td>2020-01-09</td>\n",
       "      <td>NaN</td>\n",
       "      <td>0.0</td>\n",
       "      <td>NaN</td>\n",
       "      <td>NaN</td>\n",
       "      <td>0.0</td>\n",
       "      <td>NaN</td>\n",
       "      <td>...</td>\n",
       "      <td>37.746</td>\n",
       "      <td>0.5</td>\n",
       "      <td>64.83</td>\n",
       "      <td>0.511</td>\n",
       "      <td>41128772.0</td>\n",
       "      <td>NaN</td>\n",
       "      <td>NaN</td>\n",
       "      <td>NaN</td>\n",
       "      <td>NaN</td>\n",
       "      <td>2020</td>\n",
       "    </tr>\n",
       "    <tr>\n",
       "      <th>...</th>\n",
       "      <td>...</td>\n",
       "      <td>...</td>\n",
       "      <td>...</td>\n",
       "      <td>...</td>\n",
       "      <td>...</td>\n",
       "      <td>...</td>\n",
       "      <td>...</td>\n",
       "      <td>...</td>\n",
       "      <td>...</td>\n",
       "      <td>...</td>\n",
       "      <td>...</td>\n",
       "      <td>...</td>\n",
       "      <td>...</td>\n",
       "      <td>...</td>\n",
       "      <td>...</td>\n",
       "      <td>...</td>\n",
       "      <td>...</td>\n",
       "      <td>...</td>\n",
       "      <td>...</td>\n",
       "      <td>...</td>\n",
       "      <td>...</td>\n",
       "    </tr>\n",
       "    <tr>\n",
       "      <th>402712</th>\n",
       "      <td>ZWE</td>\n",
       "      <td>Africa</td>\n",
       "      <td>Zimbabwe</td>\n",
       "      <td>2024-05-15</td>\n",
       "      <td>266362.0</td>\n",
       "      <td>0.0</td>\n",
       "      <td>0.0</td>\n",
       "      <td>5740.0</td>\n",
       "      <td>0.0</td>\n",
       "      <td>0.0</td>\n",
       "      <td>...</td>\n",
       "      <td>36.791</td>\n",
       "      <td>1.7</td>\n",
       "      <td>61.49</td>\n",
       "      <td>0.571</td>\n",
       "      <td>16320539.0</td>\n",
       "      <td>NaN</td>\n",
       "      <td>NaN</td>\n",
       "      <td>NaN</td>\n",
       "      <td>NaN</td>\n",
       "      <td>2024</td>\n",
       "    </tr>\n",
       "    <tr>\n",
       "      <th>402713</th>\n",
       "      <td>ZWE</td>\n",
       "      <td>Africa</td>\n",
       "      <td>Zimbabwe</td>\n",
       "      <td>2024-05-16</td>\n",
       "      <td>266362.0</td>\n",
       "      <td>0.0</td>\n",
       "      <td>0.0</td>\n",
       "      <td>5740.0</td>\n",
       "      <td>0.0</td>\n",
       "      <td>0.0</td>\n",
       "      <td>...</td>\n",
       "      <td>36.791</td>\n",
       "      <td>1.7</td>\n",
       "      <td>61.49</td>\n",
       "      <td>0.571</td>\n",
       "      <td>16320539.0</td>\n",
       "      <td>NaN</td>\n",
       "      <td>NaN</td>\n",
       "      <td>NaN</td>\n",
       "      <td>NaN</td>\n",
       "      <td>2024</td>\n",
       "    </tr>\n",
       "    <tr>\n",
       "      <th>402714</th>\n",
       "      <td>ZWE</td>\n",
       "      <td>Africa</td>\n",
       "      <td>Zimbabwe</td>\n",
       "      <td>2024-05-17</td>\n",
       "      <td>266362.0</td>\n",
       "      <td>0.0</td>\n",
       "      <td>0.0</td>\n",
       "      <td>5740.0</td>\n",
       "      <td>0.0</td>\n",
       "      <td>0.0</td>\n",
       "      <td>...</td>\n",
       "      <td>36.791</td>\n",
       "      <td>1.7</td>\n",
       "      <td>61.49</td>\n",
       "      <td>0.571</td>\n",
       "      <td>16320539.0</td>\n",
       "      <td>NaN</td>\n",
       "      <td>NaN</td>\n",
       "      <td>NaN</td>\n",
       "      <td>NaN</td>\n",
       "      <td>2024</td>\n",
       "    </tr>\n",
       "    <tr>\n",
       "      <th>402715</th>\n",
       "      <td>ZWE</td>\n",
       "      <td>Africa</td>\n",
       "      <td>Zimbabwe</td>\n",
       "      <td>2024-05-18</td>\n",
       "      <td>266362.0</td>\n",
       "      <td>0.0</td>\n",
       "      <td>0.0</td>\n",
       "      <td>5740.0</td>\n",
       "      <td>0.0</td>\n",
       "      <td>0.0</td>\n",
       "      <td>...</td>\n",
       "      <td>36.791</td>\n",
       "      <td>1.7</td>\n",
       "      <td>61.49</td>\n",
       "      <td>0.571</td>\n",
       "      <td>16320539.0</td>\n",
       "      <td>NaN</td>\n",
       "      <td>NaN</td>\n",
       "      <td>NaN</td>\n",
       "      <td>NaN</td>\n",
       "      <td>2024</td>\n",
       "    </tr>\n",
       "    <tr>\n",
       "      <th>402716</th>\n",
       "      <td>ZWE</td>\n",
       "      <td>Africa</td>\n",
       "      <td>Zimbabwe</td>\n",
       "      <td>2024-05-19</td>\n",
       "      <td>266362.0</td>\n",
       "      <td>0.0</td>\n",
       "      <td>0.0</td>\n",
       "      <td>5740.0</td>\n",
       "      <td>0.0</td>\n",
       "      <td>0.0</td>\n",
       "      <td>...</td>\n",
       "      <td>36.791</td>\n",
       "      <td>1.7</td>\n",
       "      <td>61.49</td>\n",
       "      <td>0.571</td>\n",
       "      <td>16320539.0</td>\n",
       "      <td>NaN</td>\n",
       "      <td>NaN</td>\n",
       "      <td>NaN</td>\n",
       "      <td>NaN</td>\n",
       "      <td>2024</td>\n",
       "    </tr>\n",
       "  </tbody>\n",
       "</table>\n",
       "<p>402717 rows × 68 columns</p>\n",
       "</div>"
      ],
      "text/plain": [
       "       iso_code continent     location       date  total_cases  new_cases  \\\n",
       "0           AFG      Asia  Afghanistan 2020-01-05          NaN        0.0   \n",
       "1           AFG      Asia  Afghanistan 2020-01-06          NaN        0.0   \n",
       "2           AFG      Asia  Afghanistan 2020-01-07          NaN        0.0   \n",
       "3           AFG      Asia  Afghanistan 2020-01-08          NaN        0.0   \n",
       "4           AFG      Asia  Afghanistan 2020-01-09          NaN        0.0   \n",
       "...         ...       ...          ...        ...          ...        ...   \n",
       "402712      ZWE    Africa     Zimbabwe 2024-05-15     266362.0        0.0   \n",
       "402713      ZWE    Africa     Zimbabwe 2024-05-16     266362.0        0.0   \n",
       "402714      ZWE    Africa     Zimbabwe 2024-05-17     266362.0        0.0   \n",
       "402715      ZWE    Africa     Zimbabwe 2024-05-18     266362.0        0.0   \n",
       "402716      ZWE    Africa     Zimbabwe 2024-05-19     266362.0        0.0   \n",
       "\n",
       "        new_cases_smoothed  total_deaths  new_deaths  new_deaths_smoothed  \\\n",
       "0                      NaN           NaN         0.0                  NaN   \n",
       "1                      NaN           NaN         0.0                  NaN   \n",
       "2                      NaN           NaN         0.0                  NaN   \n",
       "3                      NaN           NaN         0.0                  NaN   \n",
       "4                      NaN           NaN         0.0                  NaN   \n",
       "...                    ...           ...         ...                  ...   \n",
       "402712                 0.0        5740.0         0.0                  0.0   \n",
       "402713                 0.0        5740.0         0.0                  0.0   \n",
       "402714                 0.0        5740.0         0.0                  0.0   \n",
       "402715                 0.0        5740.0         0.0                  0.0   \n",
       "402716                 0.0        5740.0         0.0                  0.0   \n",
       "\n",
       "        ...  handwashing_facilities  hospital_beds_per_thousand  \\\n",
       "0       ...                  37.746                         0.5   \n",
       "1       ...                  37.746                         0.5   \n",
       "2       ...                  37.746                         0.5   \n",
       "3       ...                  37.746                         0.5   \n",
       "4       ...                  37.746                         0.5   \n",
       "...     ...                     ...                         ...   \n",
       "402712  ...                  36.791                         1.7   \n",
       "402713  ...                  36.791                         1.7   \n",
       "402714  ...                  36.791                         1.7   \n",
       "402715  ...                  36.791                         1.7   \n",
       "402716  ...                  36.791                         1.7   \n",
       "\n",
       "        life_expectancy  human_development_index  population  \\\n",
       "0                 64.83                    0.511  41128772.0   \n",
       "1                 64.83                    0.511  41128772.0   \n",
       "2                 64.83                    0.511  41128772.0   \n",
       "3                 64.83                    0.511  41128772.0   \n",
       "4                 64.83                    0.511  41128772.0   \n",
       "...                 ...                      ...         ...   \n",
       "402712            61.49                    0.571  16320539.0   \n",
       "402713            61.49                    0.571  16320539.0   \n",
       "402714            61.49                    0.571  16320539.0   \n",
       "402715            61.49                    0.571  16320539.0   \n",
       "402716            61.49                    0.571  16320539.0   \n",
       "\n",
       "        excess_mortality_cumulative_absolute  excess_mortality_cumulative  \\\n",
       "0                                        NaN                          NaN   \n",
       "1                                        NaN                          NaN   \n",
       "2                                        NaN                          NaN   \n",
       "3                                        NaN                          NaN   \n",
       "4                                        NaN                          NaN   \n",
       "...                                      ...                          ...   \n",
       "402712                                   NaN                          NaN   \n",
       "402713                                   NaN                          NaN   \n",
       "402714                                   NaN                          NaN   \n",
       "402715                                   NaN                          NaN   \n",
       "402716                                   NaN                          NaN   \n",
       "\n",
       "        excess_mortality  excess_mortality_cumulative_per_million  year  \n",
       "0                    NaN                                      NaN  2020  \n",
       "1                    NaN                                      NaN  2020  \n",
       "2                    NaN                                      NaN  2020  \n",
       "3                    NaN                                      NaN  2020  \n",
       "4                    NaN                                      NaN  2020  \n",
       "...                  ...                                      ...   ...  \n",
       "402712               NaN                                      NaN  2024  \n",
       "402713               NaN                                      NaN  2024  \n",
       "402714               NaN                                      NaN  2024  \n",
       "402715               NaN                                      NaN  2024  \n",
       "402716               NaN                                      NaN  2024  \n",
       "\n",
       "[402717 rows x 68 columns]"
      ]
     },
     "execution_count": 12,
     "metadata": {},
     "output_type": "execute_result"
    }
   ],
   "source": [
    "df"
   ]
  },
  {
   "cell_type": "code",
   "execution_count": 14,
   "id": "bd094247",
   "metadata": {},
   "outputs": [],
   "source": [
    "df_2023 = df[df[\"year\"] == 2023]  # Filtra per anno 2023"
   ]
  },
  {
   "cell_type": "code",
   "execution_count": 18,
   "id": "8e979fd9",
   "metadata": {},
   "outputs": [],
   "source": [
    "df_location_2023 = df_2023.groupby([\"location\"])[\"hosp_patients_per_million\"].max().reset_index()  #filtro per location valore max  di hosp patients per millionnel 2023"
   ]
  },
  {
   "cell_type": "code",
   "execution_count": 19,
   "id": "edd4a11e",
   "metadata": {},
   "outputs": [
    {
     "data": {
      "text/html": [
       "<div>\n",
       "<style scoped>\n",
       "    .dataframe tbody tr th:only-of-type {\n",
       "        vertical-align: middle;\n",
       "    }\n",
       "\n",
       "    .dataframe tbody tr th {\n",
       "        vertical-align: top;\n",
       "    }\n",
       "\n",
       "    .dataframe thead th {\n",
       "        text-align: right;\n",
       "    }\n",
       "</style>\n",
       "<table border=\"1\" class=\"dataframe\">\n",
       "  <thead>\n",
       "    <tr style=\"text-align: right;\">\n",
       "      <th></th>\n",
       "      <th>location</th>\n",
       "      <th>hosp_patients_per_million</th>\n",
       "    </tr>\n",
       "  </thead>\n",
       "  <tbody>\n",
       "    <tr>\n",
       "      <th>0</th>\n",
       "      <td>Afghanistan</td>\n",
       "      <td>NaN</td>\n",
       "    </tr>\n",
       "    <tr>\n",
       "      <th>1</th>\n",
       "      <td>Africa</td>\n",
       "      <td>NaN</td>\n",
       "    </tr>\n",
       "    <tr>\n",
       "      <th>2</th>\n",
       "      <td>Albania</td>\n",
       "      <td>NaN</td>\n",
       "    </tr>\n",
       "    <tr>\n",
       "      <th>3</th>\n",
       "      <td>Algeria</td>\n",
       "      <td>NaN</td>\n",
       "    </tr>\n",
       "    <tr>\n",
       "      <th>4</th>\n",
       "      <td>American Samoa</td>\n",
       "      <td>NaN</td>\n",
       "    </tr>\n",
       "    <tr>\n",
       "      <th>...</th>\n",
       "      <td>...</td>\n",
       "      <td>...</td>\n",
       "    </tr>\n",
       "    <tr>\n",
       "      <th>248</th>\n",
       "      <td>Wallis and Futuna</td>\n",
       "      <td>NaN</td>\n",
       "    </tr>\n",
       "    <tr>\n",
       "      <th>249</th>\n",
       "      <td>World</td>\n",
       "      <td>NaN</td>\n",
       "    </tr>\n",
       "    <tr>\n",
       "      <th>250</th>\n",
       "      <td>Yemen</td>\n",
       "      <td>NaN</td>\n",
       "    </tr>\n",
       "    <tr>\n",
       "      <th>251</th>\n",
       "      <td>Zambia</td>\n",
       "      <td>NaN</td>\n",
       "    </tr>\n",
       "    <tr>\n",
       "      <th>252</th>\n",
       "      <td>Zimbabwe</td>\n",
       "      <td>NaN</td>\n",
       "    </tr>\n",
       "  </tbody>\n",
       "</table>\n",
       "<p>253 rows × 2 columns</p>\n",
       "</div>"
      ],
      "text/plain": [
       "              location  hosp_patients_per_million\n",
       "0          Afghanistan                        NaN\n",
       "1               Africa                        NaN\n",
       "2              Albania                        NaN\n",
       "3              Algeria                        NaN\n",
       "4       American Samoa                        NaN\n",
       "..                 ...                        ...\n",
       "248  Wallis and Futuna                        NaN\n",
       "249              World                        NaN\n",
       "250              Yemen                        NaN\n",
       "251             Zambia                        NaN\n",
       "252           Zimbabwe                        NaN\n",
       "\n",
       "[253 rows x 2 columns]"
      ]
     },
     "execution_count": 19,
     "metadata": {},
     "output_type": "execute_result"
    }
   ],
   "source": [
    "df_location_2023"
   ]
  },
  {
   "cell_type": "code",
   "execution_count": 20,
   "id": "cc480054",
   "metadata": {},
   "outputs": [],
   "source": [
    "francia_spagna_germania = df_location_2023[df_location_2023[\"location\"].isin([\"Germany\", \"Spain\", \"France\"])] #filtra solo per germania francia e spagna"
   ]
  },
  {
   "cell_type": "code",
   "execution_count": 21,
   "id": "62bd9e8b",
   "metadata": {},
   "outputs": [
    {
     "data": {
      "text/html": [
       "<div>\n",
       "<style scoped>\n",
       "    .dataframe tbody tr th:only-of-type {\n",
       "        vertical-align: middle;\n",
       "    }\n",
       "\n",
       "    .dataframe tbody tr th {\n",
       "        vertical-align: top;\n",
       "    }\n",
       "\n",
       "    .dataframe thead th {\n",
       "        text-align: right;\n",
       "    }\n",
       "</style>\n",
       "<table border=\"1\" class=\"dataframe\">\n",
       "  <thead>\n",
       "    <tr style=\"text-align: right;\">\n",
       "      <th></th>\n",
       "      <th>location</th>\n",
       "      <th>hosp_patients_per_million</th>\n",
       "    </tr>\n",
       "  </thead>\n",
       "  <tbody>\n",
       "    <tr>\n",
       "      <th>76</th>\n",
       "      <td>France</td>\n",
       "      <td>356.230</td>\n",
       "    </tr>\n",
       "    <tr>\n",
       "      <th>82</th>\n",
       "      <td>Germany</td>\n",
       "      <td>NaN</td>\n",
       "    </tr>\n",
       "    <tr>\n",
       "      <th>213</th>\n",
       "      <td>Spain</td>\n",
       "      <td>75.381</td>\n",
       "    </tr>\n",
       "  </tbody>\n",
       "</table>\n",
       "</div>"
      ],
      "text/plain": [
       "    location  hosp_patients_per_million\n",
       "76    France                    356.230\n",
       "82   Germany                        NaN\n",
       "213    Spain                     75.381"
      ]
     },
     "execution_count": 21,
     "metadata": {},
     "output_type": "execute_result"
    }
   ],
   "source": [
    "francia_spagna_germania    #qua come valore da il valore max di hosp_patiens_per million"
   ]
  },
  {
   "cell_type": "code",
   "execution_count": null,
   "id": "e8404439",
   "metadata": {},
   "outputs": [],
   "source": []
  },
  {
   "cell_type": "code",
   "execution_count": 39,
   "id": "1913ddc6",
   "metadata": {},
   "outputs": [],
   "source": [
    "df_germany_2023 = df[(df['location'] == 'Germany') & (df['date'].dt.year == 2023)]  #filtro per germania 2023"
   ]
  },
  {
   "cell_type": "code",
   "execution_count": 45,
   "id": "415fa476",
   "metadata": {},
   "outputs": [
    {
     "data": {
      "text/plain": [
       "365"
      ]
     },
     "execution_count": 45,
     "metadata": {},
     "output_type": "execute_result"
    }
   ],
   "source": [
    "null_count_G = df_germany_2023['hosp_patients_per_million'].isna().sum()  #conteggio nulli 2023 per germania\n",
    "null_count_G"
   ]
  },
  {
   "cell_type": "code",
   "execution_count": 50,
   "id": "b1b6815e",
   "metadata": {},
   "outputs": [
    {
     "data": {
      "text/plain": [
       "(365,)"
      ]
     },
     "execution_count": 50,
     "metadata": {},
     "output_type": "execute_result"
    }
   ],
   "source": [
    "df_germany_2023['hosp_patients_per_million'].shape   #entry totali"
   ]
  },
  {
   "cell_type": "code",
   "execution_count": 46,
   "id": "b8b23250",
   "metadata": {},
   "outputs": [],
   "source": [
    "df_spain_2023 = df[(df['location'] == 'Spain') & (df['date'].dt.year == 2023)]"
   ]
  },
  {
   "cell_type": "code",
   "execution_count": 47,
   "id": "94cdfd86",
   "metadata": {},
   "outputs": [
    {
     "data": {
      "text/plain": [
       "203"
      ]
     },
     "execution_count": 47,
     "metadata": {},
     "output_type": "execute_result"
    }
   ],
   "source": [
    "null_count_S = df_spain_2023['hosp_patients_per_million'].isna().sum() #conteggio nulli 2023 per spagna\n",
    "null_count_S"
   ]
  },
  {
   "cell_type": "code",
   "execution_count": 52,
   "id": "28d86538",
   "metadata": {},
   "outputs": [
    {
     "data": {
      "text/plain": [
       "(365,)"
      ]
     },
     "execution_count": 52,
     "metadata": {},
     "output_type": "execute_result"
    }
   ],
   "source": [
    "df_spain_2023['hosp_patients_per_million'].shape"
   ]
  },
  {
   "cell_type": "code",
   "execution_count": 48,
   "id": "8d3fbf96",
   "metadata": {},
   "outputs": [],
   "source": [
    "df_france_2023 = df[(df['location'] == 'France') & (df['date'].dt.year == 2023)]"
   ]
  },
  {
   "cell_type": "code",
   "execution_count": 49,
   "id": "5e0308b3",
   "metadata": {},
   "outputs": [
    {
     "data": {
      "text/plain": [
       "275"
      ]
     },
     "execution_count": 49,
     "metadata": {},
     "output_type": "execute_result"
    }
   ],
   "source": [
    "null_count_F = df_france_2023['hosp_patients_per_million'].isna().sum()  #conteggio nulli 2023 per francia\n",
    "null_count_F"
   ]
  },
  {
   "cell_type": "code",
   "execution_count": 53,
   "id": "10bd3fd8",
   "metadata": {},
   "outputs": [
    {
     "data": {
      "text/plain": [
       "(365,)"
      ]
     },
     "execution_count": 53,
     "metadata": {},
     "output_type": "execute_result"
    }
   ],
   "source": [
    "df_france_2023['hosp_patients_per_million'].shape"
   ]
  },
  {
   "cell_type": "code",
   "execution_count": null,
   "id": "aad609a8",
   "metadata": {},
   "outputs": [],
   "source": [
    "#per i valori nulli in questo caso c è da fare ben poco, per la Germania rappresentano il 100%, 365 su 365 entry totali, per la Francia\n",
    "275/365 ovvero il 75%  del totali, e per la Spagna 203/365 ovvero il 55% del totale quindi valori troppo alti per essere eliminati"
   ]
  },
  {
   "cell_type": "code",
   "execution_count": null,
   "id": "821344c1",
   "metadata": {},
   "outputs": [],
   "source": []
  }
 ],
 "metadata": {
  "kernelspec": {
   "display_name": "Python 3 (ipykernel)",
   "language": "python",
   "name": "python3"
  },
  "language_info": {
   "codemirror_mode": {
    "name": "ipython",
    "version": 3
   },
   "file_extension": ".py",
   "mimetype": "text/x-python",
   "name": "python",
   "nbconvert_exporter": "python",
   "pygments_lexer": "ipython3",
   "version": "3.11.7"
  }
 },
 "nbformat": 4,
 "nbformat_minor": 5
}
